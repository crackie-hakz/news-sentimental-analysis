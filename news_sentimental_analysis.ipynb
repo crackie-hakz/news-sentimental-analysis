{
 "cells": [
  {
   "cell_type": "markdown",
   "metadata": {},
   "source": [
    "# Bounty: Sentiment Analysis with Python Project"
   ]
  },
  {
   "cell_type": "markdown",
   "metadata": {},
   "source": [
    "## Data Acquisition\n",
    "\n",
    "The data acquisition process is a critical initial step for any data science project. In my project, It involves fetching news articles related to a user-specified topic from the newsapi.org API. The process is as follows:\n",
    "\n",
    "1. **User Input**: The user provides a topic of interest.\n",
    "2. **API Request**: The script makes an HTTP GET request to the newsapi.org API, passing the topic and an API key as parameters.\n",
    "3. **Response Handling**: The API's response is received in JSON format, from which we extract the articles.\n",
    "4. **Data Validation**: If fewer than 10 articles are found for the given topic, the user is prompted to try a different topic, ensuring a robust dataset for analysis.\n",
    "5. **Result Storage**: The fetched articles are stored in a list of dictionaries, each containing the description and publication date of an article."
   ]
  },
  {
   "cell_type": "code",
   "execution_count": 1,
   "metadata": {},
   "outputs": [
    {
     "name": "stdout",
     "output_type": "stream",
     "text": [
      "Fetching news for topic: bitcoin...\n",
      "Found 100 articles for topic: bitcoin.\n",
      "{'description': 'The last few years have been, to put it mildly, rough. And 2023 continued to bring sad tidings. Amid the humanitarian crisis that is the Palestine-Israeli conflict, plus increased fears around the credibility and reliability of AI and Elon Musk’s ongoing melt…', 'publishedAt': '2023-12-29T17:00:17Z'}\n",
      "{'description': 'On Telegram, scammers are impersonating doctors to sell fake Covid-19 vaccination certificates and other products, showing how criminals are taking advantage of conspiracy theories.', 'publishedAt': '2023-12-18T12:00:00Z'}\n",
      "{'description': 'Worldcoin, Sam Altman’s cryptocurrency venture, is now integrating its verification services into popular apps such as Reddit, Discord, Shopify, Mercado Libre, Telegram, and Minecraft. The move is part of Altman’s World ID 2.0, which describes itself as “a hu…', 'publishedAt': '2023-12-13T17:45:00Z'}\n",
      "{'description': \"Add to a charity haul that's already raised over $17,000 in just a few weeks.\", 'publishedAt': '2023-12-14T15:56:33Z'}\n",
      "{'description': \"Add to a charity haul that's already raised over $14,000 in less than two weeks.\", 'publishedAt': '2023-12-08T19:41:47Z'}\n",
      "{'description': \"Enter by the end of the day and add to this year's charity haul of over $26,000.\", 'publishedAt': '2024-01-02T15:52:21Z'}\n",
      "{'description': \"San Francisco Fed President Mary Daly said it's appropriate for the central bank to begin considering rate cuts in 2024.\", 'publishedAt': '2023-12-19T14:44:31Z'}\n",
      "{'description': 'Bitcoin and other digital currencies are rallying, emerging from a stormy period with the conviction that crypto is here to stay.', 'publishedAt': '2023-12-26T10:00:50Z'}\n",
      "{'description': 'An anonymous reader quotes a report from The Guardian: A chief executive officer whose claimed qualifications appear to have no basis in fact was used to promote the HyperVerse crypto fund, alongside celebrity messages of support, as part of a push to recruit…', 'publishedAt': '2024-01-03T23:50:00Z'}\n",
      "{'description': \"James Gorman said the rich shouldn't bet big on bitcoin, there wasn't a banking crisis last year, and interest rates are likely to drop this year.\", 'publishedAt': '2024-01-04T11:28:57Z'}\n",
      "{'description': \"A rise in cryptocurrency mining facilities in Texas and other states has come under scrutiny for the industry's ties to Chinese investment.\", 'publishedAt': '2023-12-26T14:46:23Z'}\n",
      "{'description': \"Stocks defied Wall Street's gloomy predictions, bonds suffered a historic rout, and the US economy dodged a long-expected recession this year.\", 'publishedAt': '2023-12-28T11:08:26Z'}\n",
      "{'description': \"In today's big story, we're diving into the unsealed court documents naming more than 170 Jeffrey Epstein associates.\", 'publishedAt': '2024-01-04T14:38:52Z'}\n",
      "{'description': \"Robert Kiyosaki says the American government will print money aggressively to cover its spiraling debt costs, eroding the dollar's value.\", 'publishedAt': '2023-12-07T10:54:06Z'}\n",
      "{'description': 'A former Amazon engineer pleaded guilty to hacking two crypto exchanges and stealing $12.3 million in the first ever conviction involving smart contracts.', 'publishedAt': '2023-12-17T04:53:16Z'}\n",
      "{'description': 'It has been a bad year for crypto, with prices crashing and key figures like Sam Bankman-Fried going to jail. Experts say crypto influencers and startups have responded by pivoting hard toward AI.', 'publishedAt': '2023-12-23T10:00:01Z'}\n",
      "{'description': \"Is Andriy Yermak, Zelensky's right-hand man, handing war-torn Ukraine over to the oligarchs?\", 'publishedAt': '2023-12-18T10:53:01Z'}\n",
      "{'description': 'El Salvador’s ambitious plan to issue $1 billion in sovereign “Volcano Bonds” backed by Bitcoin has cleared a significant obstacle, […]\\nThe post El Salvador Bitcoin bonds clear regulatory hurdle appeared first on ReadWrite.', 'publishedAt': '2023-12-12T19:30:08Z'}\n",
      "{'description': 'The cryptocurrency market kicked off the new year with a bang as Bitcoin surged past the $45,000 mark for the […]\\nThe post Bitcoin soars above $45,000 in New Year rally, eyes on SEC for ETF approvals appeared first on ReadWrite.', 'publishedAt': '2024-01-02T10:24:46Z'}\n",
      "{'description': 'The price of Bitcoin has seen its biggest value boost since the 2022 cryptocurrency market crash. On Wednesday (Dec. 6) […]\\nThe post Bitcoin price surges by 175% amid US ETF hopes appeared first on ReadWrite.', 'publishedAt': '2023-12-06T13:49:16Z'}\n",
      "{'description': 'Bitcoin experienced an 8% slump on Wednesday (Jan.3) after $400m was liquidated in the space of just two hours. The […]\\nThe post Bitcoin price: $400m liquidation leads to significant slump appeared first on ReadWrite.', 'publishedAt': '2024-01-03T16:41:52Z'}\n",
      "{'description': 'In November 2022, the cybersecurity group vx-underground claimed on social media that unknown hackers had breached the now-defunct Bitcoin ATM […]\\nThe post Coin Cloud bankruptcy leaves customers at risk appeared first on ReadWrite.', 'publishedAt': '2023-12-12T20:37:48Z'}\n",
      "{'description': 'In the latest high-profile gaming hack, it seems Spiderman 2, and current Wolverine developer Insomniac Games has been breached, by […]\\nThe post PlayStation game dev hit by major ransomware attack – stolen data being auctioned off appeared first on ReadWrite.', 'publishedAt': '2023-12-12T16:45:11Z'}\n",
      "{'description': 'Hacker group Rhysida made good on a promise to leak gaming and personal data related to Insomniac Games. This has […]\\nThe post Insomniac leak: Rhysida hack sparks rally of support for game developer appeared first on ReadWrite.', 'publishedAt': '2023-12-19T15:01:51Z'}\n",
      "{'description': 'Después del hackeo y la masiva filtración de datos que sufrió días atrás, Insomniac Games por fin rompió el silencio. El estudio perteneciente a PlayStation publicó un comunicado en su cuenta de X (Twitter), refiriéndose al incidente y a las consecuencias del…', 'publishedAt': '2023-12-22T17:23:11Z'}\n",
      "{'description': 'Desafortunadamente, Insominac Games, el estudio detrás de títulos como Ratchet & Clank y Spider-Man, sufrió un hackeo en su red interna. Los atacantes exigieron una suma de 50 Bitcoin con tal de no revelar la información obtenida. Cifra que, desde luego, no f…', 'publishedAt': '2023-12-13T23:01:00Z'}\n",
      "{'description': 'Un nuevo ciberataque pone en jaque a Sony. Esta vez, la víctima sería Insomniac Games, el estudio detrás de la exitosa franquicia Spider-Man de PlayStation. El grupo de ransomware Rhysida afirma haber hackeado la compañía y robado información del nuevo juego …', 'publishedAt': '2023-12-12T17:45:28Z'}\n",
      "{'description': 'You probably don’t notice keyboard latency when typing or doing mundane tasks, but if you start gaming, that’s also when you might start complaining. Every millisecond counts in that arena. …read more', 'publishedAt': '2023-12-10T12:00:53Z'}\n",
      "{'description': 'It seems like mechanical keyboard enthusiasts are more spoiled for choice with each passing day. But as broad as the open source pool has become, there’s still no perfect keyboard for everyon…', 'publishedAt': '2023-12-20T18:00:54Z'}\n",
      "{'description': 'Rockstar Games released its Grand Theft Auto 6 trailer a day early, after it got leaked. In some ways, leaks have become part of GTA 6’s story.', 'publishedAt': '2023-12-05T23:15:00Z'}\n",
      "{'description': 'What TV shows and films released on Netflix this month should you watch? Here’s a list with our editor’s pick recommendation (it’s not Taylor Swift’s Cats).', 'publishedAt': '2024-01-01T13:05:00Z'}\n",
      "{'description': 'The first line in the trailer for Netflix\\'s Bitconned is one of the scammers, free as a bird, saying \"Ever since I was a kid, I always wanted to be a criminal.\" \\n\\n\\n\\n\\n\\r\\n\\n\\r\\n\\n\\n\\n\\n\\nIn 2017, amidst the economic frenzy of the Bitcoin boom, there was no better place …', 'publishedAt': '2023-12-06T15:05:37Z'}\n",
      "{'description': 'Tras un largo criptoinvierno, as últimas semanas parecen estar apuntando a un cambio de tendencia importante en el mercado de las criptodivisas. Si hace una semana bitcoin superaba los 35.000 dólares de valor, esa progresión ha continuado y estamos asistiendo…', 'publishedAt': '2023-12-05T08:01:47Z'}\n",
      "{'description': 'United Launch Alliance (ULA) necesita un poco más de tiempo para lanzar la primera misión lunar de Estados Unidos en más de 50 años. El lanzamiento marcará también el debut del cohete Vulcan Centaur, que utiliza motores de metano de Blue Origin (la empresa ae…', 'publishedAt': '2023-12-15T13:18:47Z'}\n",
      "{'description': 'Jerry Yu estudia en la Universidad de Nueva York, tiene 23 años y es uno de tantos ciudadanos chinos residente en Estados Unidos. Hasta ahí nada extraño. A lo largo de los últimos días Yu ha protagonizado sin embargo un buen número de titulares en medios inte…', 'publishedAt': '2023-12-31T17:01:38Z'}\n",
      "{'description': '2023 ha sido un año muy movido en el ámbito de las criptomonedas. No tanto por la montaña rusa de subidas y bajadas a las que nos tienen acostumbrados las divisas digitales, sino por el hundimiento junto a sus empresas de tres personajes clave en la historia …', 'publishedAt': '2023-12-30T10:01:34Z'}\n",
      "{'description': 'La empresa que se consideraba como el gran referente cripto en el campo de la seguridad ha tenido un 2023 para olvidar. Tras la polémica con Ledger Recover, ahora se le junta un problema todavía más grave. Sus sistemas conectados han sido comprometidos.\\n<!-- …', 'publishedAt': '2023-12-15T13:31:30Z'}\n",
      "{'description': 'Comprar deuda pública española se ha convertido en la inversión por excelencia de la mayoría de los españoles este año. Si bien el alza de los tipos de interés\\r\\n y la brutal inflación han golpeado con fuerza en bolsillo de las familias\\r\\n con hipotecas y renta…', 'publishedAt': '2023-12-14T09:01:29Z'}\n",
      "{'description': 'We asked a few badass colleagues and expert Trendsters what they think will be huge in 2024. Here’s what they said.', 'publishedAt': '2023-12-20T02:00:00Z'}\n",
      "{'description': 'In 2023, the Oxford English Dictionary again updated its lexicon, adding 80 new weird words and phrases. \\nFrom technological jargon like “Bitcoin” and “Deepfake” to colloquial gems such as “Bestie” and “Binge-Watching,” the OED continues to capture the ever-e…', 'publishedAt': '2024-01-03T12:00:00Z'}\n",
      "{'description': 'Hindsight is our finest instrument for discerning the patterns of our lives. To look back on a year of reading, a year of writing, is to discover a secret map of the mind, revealing the landscape of living — after all, how we spend our thoughts is how we spen…', 'publishedAt': '2023-12-28T18:05:03Z'}\n",
      "{'description': 'President Bukele says that the country is now making a profit on Bitcoin investment amid economic and social reforms in the country.', 'publishedAt': '2023-12-13T13:20:51Z'}\n",
      "{'description': \"The debut of Society of the Snow and Dan Levy's Good Grief, plus the addition of the hit show This is Us, highlight Netflix's January 2024 schedule.\", 'publishedAt': '2023-12-13T19:24:54Z'}\n",
      "{'description': 'Our first full episode of “Beyond The Price” is out! Entitled “Bitcoin is Crucial Climate Tech”, Bradley speaks with CH4 Capital co-founder and Bitcoin mining researcher Daniel Batten about the…', 'publishedAt': '2024-01-02T06:44:47Z'}\n",
      "{'description': 'New advertisements by Coinbase, a cryptocurrency exchange, prey on the financial anxieties of Gen Z and other young adults. The ads, which are on heavy rotation on cable television, depict the modern economic system as rigged. In one of the ads, a young woman…', 'publishedAt': '2023-12-14T16:38:59Z'}\n",
      "{'description': 'We have made two fomal complaints to the UN High Commissioner for Human Rights, one over my incarceration for Contempt of Court, and one over continuing police harassment including the investigation for “terrorism” of which I am now the subject. In a meeting …', 'publishedAt': '2023-12-11T14:23:24Z'}\n",
      "{'description': 'On October 31, 2023, the British Library suffered a massive cyberattack. Since then, what has been lost?', 'publishedAt': '2023-12-15T19:36:49Z'}\n",
      "{'description': 'Comments', 'publishedAt': '2023-12-21T08:49:10Z'}\n",
      "{'description': 'Plus! Accredited Investors; Gambling on Gambling; Price Discrimination; In Play; Even More Product Convergence; Diff Jobs', 'publishedAt': '2023-12-19T12:04:24Z'}\n",
      "{'description': 'Seit dem Herbst geht es für den Bitcoin wieder steil nach oben. Hintergrund ist die Hoffnung auf eine Freigabe es des ersten Bitcoin-ETFs durch die SEC.', 'publishedAt': '2024-01-02T09:08:00Z'}\n",
      "{'description': 'Vor dem Hintergrund des steigenden Bitcoin-Kurses verspüren auch die Neo-Broker einen Aufwind: Der Pionier Robinhood wagt den Schritt über den großen Teich.', 'publishedAt': '2023-12-07T16:57:00Z'}\n",
      "{'description': 'Die Bloggerin Molly White dokumentiert die Pleiten und Betrügereien von Blockchain-Firmen. Wir haben sie zur Lage und Entwicklungen in der Branche befragt.', 'publishedAt': '2024-01-04T16:30:00Z'}\n",
      "{'description': 'Big-Tech-Konzerne gehen nach satten Kurs- und Gewinnsteigerungen 2023 gestärkt ins neue Jahr. 2024 könnte so interessant wie lange nicht mehr werden.\\u200b', 'publishedAt': '2023-12-28T10:45:00Z'}\n",
      "{'description': 'BKA & Co. haben einen weiteren Darknet-Marktplatz abgeschaltet. Über 42.000 kriminelle Angebote von Drogen bis zu Schadsoftware sind damit nicht mehr verfügbar.', 'publishedAt': '2023-12-20T16:06:00Z'}\n",
      "{'description': 'Hyperloop One liquidiert + Lapsus$-Täter verurteilt + Deregulierung in Argentinien pro Krypto + Leistungsbegrenzungen erklärt + Geständnis eines iPhone-Gauners', 'publishedAt': '2023-12-22T05:30:00Z'}\n",
      "{'description': 'Wer in Kryptowährungen investieren möchte, muss keine Coins kaufen und mit Wallets hantieren. Möglich machen das zahlreiche Wertpapiere wie ETFs und ETNs.', 'publishedAt': '2023-12-14T06:30:00Z'}\n",
      "{'description': 'Die Kryptobörse FTX wird nicht auferstehen. So soll die Masse verteilt werden.', 'publishedAt': '2023-12-19T04:47:00Z'}\n",
      "{'description': '\"We are very transparent\", versprach EXW. Eine Kryptowährung und Trading-Bots sollten Anleger reich machen. Das Geld haben nun andere.\\u200b', 'publishedAt': '2023-12-14T03:31:00Z'}\n",
      "{'description': 'El gobierno del El Salvador decidió que este país centroamericano sería el primero del mundo en hacer del bitcoin moneda oficial en el país en verano de 2021. El balance por ahora no es positivo, por muchos motivos, entre otros la caída de la mayor de las cri…', 'publishedAt': '2023-12-11T13:31:04Z'}\n",
      "{'description': 'Las criptomonedas suelen ser bastante anónimas, pero si no pagas a tus contratistas puedes poner ese anonimato en peligro. Entre las historias raras de las criptomonedas que casi parecen más ficción que realidad, hoy tenemos la de este estudiante que, por no …', 'publishedAt': '2023-12-26T11:35:37Z'}\n",
      "{'description': 'Jonny Platt, fundador de SeoScout, una herramienta de análisis de textos \\xa0en internet, fue víctima de un hackeo y se encontró con que Amazon y su página de soporte no ofrecía una solución para hacer frente a su problema.\\n<!-- BREAK 1 -->\\nConcretamente, hackea…', 'publishedAt': '2023-12-26T17:19:16Z'}\n",
      "{'description': 'The first vehicles to fly under NASA’s new lunar delivery initiative will aim to be the first commercial spacecraft to land softly on another celestial body', 'publishedAt': '2023-12-21T15:30:00Z'}\n",
      "{'description': \"A weekly look at the most important moves and news in crypto and what's on the horizon in digital assets.\", 'publishedAt': '2023-12-27T19:24:00Z'}\n",
      "{'description': 'Short-term, the Santa Claus rally looks solid.', 'publishedAt': '2023-12-27T22:32:00Z'}\n",
      "{'description': 'The ARK Innovation ETF was previously a seller of Tesla stock, which is one of its largest holdings.', 'publishedAt': '2023-12-21T12:51:00Z'}\n",
      "{'description': 'Small-caps had a great end to 2023, but hedge funds may only be covering their shorts. Beware says our call of the day.', 'publishedAt': '2024-01-02T12:07:00Z'}\n",
      "{'description': 'Interview with Andrew Rosener on The Tim Ferriss Show podcast \\nThe post Andrew Rosener — The Path from Scallop Kingpin to Selling 8-Figure Domains, Achieving Financial Freedom, and How to Live a Contrarian Life (#711) appeared first on The Blog of Author Tim …', 'publishedAt': '2023-12-20T20:39:47Z'}\n",
      "{'description': 'Bitcoin and related companies are selling off on Wednesday after a research report predicted the SEC would not approve the spot bitcoin ETF this month.', 'publishedAt': '2024-01-03T18:19:00Z'}\n",
      "{'description': \"One of Cathie Wood’s exchange-traded funds has sold all its holdings of Grayscale Bitcoin Trust over uncertainty around whether the trust's conversion to an ETF would be approved.\", 'publishedAt': '2023-12-28T17:55:00Z'}\n",
      "{'description': 'Bitcoin rallied over 150% on the year-to-date. A changing of the guards may be partly why.', 'publishedAt': '2023-12-18T12:30:00Z'}\n",
      "{'description': \"April 2023 was about looking back to the work of Steve Jobs, of Jony Ive, and of Ted Lasso, plus pressing ahead into India and the future of iMessage outside of Apple's platform.From the front cover of the new Steve Jobs bookWhere March 2023 had the mid-cycle…\", 'publishedAt': '2023-12-27T18:30:18Z'}\n",
      "{'description': \"La société Américaine Gen™ (ex Symantec, ex NortonLifeLock) vient de publier ses prévisions pour 2024 en matière de cybermenaces. Voici les grandes tendances que le géant de la sécurité informatique anticipe pour l'année à venir.\\nIA, crypto, réseaux sociaux\\xa0:…\", 'publishedAt': '2023-12-20T18:05:49Z'}\n",
      "{'description': 'Traditionally speaking, industrial designers need industrial clients. But the skillset conferred by ID experience overlaps well with what design entrepreneurs need to do their own thing. Here are some examples of the industrial design entrepreneurs and pionee…', 'publishedAt': '2023-12-29T15:00:00Z'}\n",
      "{'description': \"No hay nada más navideño que imaginarse un paisaje nevado y Apple, que es muy dada a ciertas celebraciones, no elude la Navidad y ya ofrece en su aplicación 'Apple Store' su particular huevo de pascua con el que precisamente pinta el paisaje de la app con nie…\", 'publishedAt': '2023-12-14T08:01:28Z'}\n",
      "{'description': 'The gaming industry have come together to condemn the leaks that Insomniac Games has suffered by a vicious cyber attack.\\nThe post Insomniac Games Cyberattack condemned by industry appeared first on Phandroid.', 'publishedAt': '2023-12-19T20:39:26Z'}\n",
      "{'description': 'Deux fonctionnaires de la Banque centrale européenne affirment que la cryptomonnaie est en fin de course.', 'publishedAt': '2023-12-06T09:30:08Z'}\n",
      "{'description': 'Depuis lundi le Bitcoin et les autres crypto reprennent de la vigueur - avec notamment le BTC autour des 40\\xa0000 euros. Pourquoi cette situation et surtout est-ce durable\\xa0?', 'publishedAt': '2023-12-05T19:24:14Z'}\n",
      "{'description': \"After Rockstar Games dropped the GTA 6 trailer early--thanks in part to Bitcoin peddlers ruining Rockstar's moment--the internet quickly began discussing the game. Its debut trailer has been dissected and analyzed, theories are piling up, and GTA 6 has alread…\", 'publishedAt': '2023-12-05T14:55:00Z'}\n",
      "{'description': \"Hackers who stole information from Marvel's Spider-Man 2 developer Insomniac Games have released much of that data into the wild, reportedly after Sony refused to pay a ransom for the return of those files. The group--Rhysida --demanded a payment of 50 BitCoi…\", 'publishedAt': '2023-12-19T15:02:00Z'}\n",
      "{'description': 'Change your IP address to locations in 69 countries with ProtonVPN on desktop and mobile.', 'publishedAt': '2023-12-15T18:01:19Z'}\n",
      "{'description': 'Der Preis für Bitcoin ist zum ersten Mal seit mehr als acht Monaten wieder auf mehr als 45.000 US-Dollar gestiegen. Bald wird über die Zulassung eines Bitcoin-ETF entschieden. (Bitcoin, Börse)', 'publishedAt': '2024-01-03T06:58:01Z'}\n",
      "{'description': 'Inspired by Tom Whitwell’s annual list, I kept track of some things I learned this year, one for each week. Here we go:\\n\\nCia', 'publishedAt': '2023-12-26T16:38:09Z'}\n",
      "{'description': 'Happy New Year!\\xa0 Kick it off right with our first day of the year reads: • Everything Wall Street Got Wrong in 2023: Stocks were supposed to slump and bonds rally as the Fed drove the US into a recession. It didn’t play out as strategists expected. (Bloomberg…', 'publishedAt': '2024-01-01T11:30:49Z'}\n",
      "{'description': 'Tyler Cowen and his colleague Alex Tabarrok write some interesting posts over at Marginal Revolution. Sometimes I agree with them, sometimes I disagree with them. Recently, a post utterly perplexed me: “One doesn’t get a favorable impression of crypto from\\xa0Nu…', 'publishedAt': '2023-12-13T15:00:10Z'}\n",
      "{'description': 'The transcript from this week’s, MiB: Stephen Suttmeier, BAML Chief Equity Technical Strategist, is below. You can stream and download our full conversation, including any podcast extras, on Apple Podcasts, Spotify,\\xa0YouTube, and Bloomberg. All of our earlier …', 'publishedAt': '2023-12-26T14:00:50Z'}\n",
      "{'description': 'Une jeune start-up nantaise lance un projet inédit, un ordinateur sous forme de radiateur qui utilise la chaleur fatale\\xa0!', 'publishedAt': '2023-12-19T11:30:09Z'}\n",
      "{'description': 'Une enquête a permis de retrouver la trace de revendeurs illégaux.', 'publishedAt': '2023-12-05T08:30:37Z'}\n",
      "{'description': 'Welcome to What’s On, our weekly picks of must-watch shows. Here’s what you need to watch from Sunday, December 31 to Thursday, January 4. All times are Eastern. [Note: The weekend edition of What’s On drops on Fridays.]Read more...', 'publishedAt': '2023-12-31T13:00:00Z'}\n",
      "{'description': 'Crypto and bitcoin, among their other uses, are Rorschach tests for commentators. As these institutions evolve, are you capable of changing your mind and updating in response to new data? Sadly, many people are failing that test and instead staking out inflex…', 'publishedAt': '2023-12-09T06:06:49Z'}\n",
      "{'description': 'Hier finden Sie Informationen zu dem Thema „Digitalwährung “. Lesen Sie jetzt „Bitcoin erstmals seit April 2022 über 45.000 US-Dollar“.', 'publishedAt': '2024-01-02T07:13:04Z'}\n",
      "{'description': 'Der Kurs der Digitalwährung fiel um fast 5.000 US-Dollar. Kurz zuvor war der Bitcoin noch so viel wert wie zuletzt 2022. Auch andere Kryptowährungen sind betroffen.', 'publishedAt': '2024-01-03T14:23:45Z'}\n",
      "{'description': 'Hier finden Sie Informationen zu dem Thema „Digitalwährung“. Lesen Sie jetzt „Bitcoin verliert deutlich: Jüngste Gewinne sind weg“.', 'publishedAt': '2024-01-03T13:38:37Z'}\n",
      "{'description': 'Der durchschnittliche Kryptoanleger ist männlich, weiß, westlich – und freute sich zuletzt über eine Rallye. Der Wirtschaftssoziologe Koray Caliskan erklärt den Hype.', 'publishedAt': '2024-01-03T13:32:59Z'}\n",
      "{'description': 'Vor sieben Jahren hat er sein Restaurant eröffnet, nun steht dessen Ruf auf dem Spiel. Wie es wirklich ist, mit schlechten Bewertungen erpresst zu werden.', 'publishedAt': '2024-01-02T12:53:57Z'}\n",
      "{'description': 'Straight into the moon, where I’ll be left in pieces among the wreckage of the craft!', 'publishedAt': '2024-01-04T13:00:00Z'}\n",
      "{'description': '2023 wasn’t the best year for some celebs we first met three decades ago.', 'publishedAt': '2023-12-07T16:00:00Z'}\n",
      "{'description': 'As the top cryptocurrency, Bitcoin has seen explosive growth, but do you know who accepts Bitcoin as payment? This list is growing daily.', 'publishedAt': '2023-12-17T09:15:59Z'}\n",
      "{'description': 'Whether you choose a hard or soft wallet, here are some of the best cryptocurrency wallet options available to safely store your currency.', 'publishedAt': '2023-12-26T18:44:34Z'}\n",
      "{'description': 'There are thousands of cryptocurrencies, with the best cryptocurrency app choices, you can better manage your sales and purchases securely.', 'publishedAt': '2023-12-26T18:38:29Z'}\n",
      "{'description': 'If you see yourself as an introvert, there are many perfect business options. These business ideas for introverts will inspire you to take the next step.', 'publishedAt': '2024-01-03T02:28:10Z'}\n"
     ]
    }
   ],
   "source": [
    "import requests\n",
    "\n",
    "def query_newsapi(topic, api_key):\n",
    "    \"\"\"\n",
    "    Fetches news articles related to the given topic from the newsapi.org API.\n",
    "\n",
    "    Parameters:\n",
    "    topic (str): Topic to search for in news articles.\n",
    "    api_key (str): API key for newsapi.org.\n",
    "\n",
    "    Returns:\n",
    "    list: A list of dictionaries containing articles' title, description, and published date.\n",
    "    \"\"\"\n",
    "    print(f\"Fetching news for topic: {topic}...\")\n",
    "    url = f'https://newsapi.org/v2/everything?q={topic}&sortBy=popularity&apiKey={api_key}'\n",
    "    response = requests.get(url)\n",
    "    data = response.json()\n",
    "    articles = data.get('articles', [])\n",
    "    print(f\"Found {len(articles)} articles for topic: {topic}.\")\n",
    "    return [{'description': article['description'], 'publishedAt': article['publishedAt']} for article in articles]\n",
    "\n",
    "api_key = 'f51eac6aca0c4e638302bbc4e304572d'\n",
    "topic = input(\"Enter a topic to search news for: \")\n",
    "if topic == '':\n",
    "    topic = 'bitcoin' # default topic\n",
    "article_details = query_newsapi(topic, api_key)\n",
    "for article_detail in article_details:\n",
    "    print(article_detail)"
   ]
  },
  {
   "cell_type": "markdown",
   "metadata": {},
   "source": [
    "## Data Cleaning and Translation\n",
    "\n",
    "After acquiring the news articles, the next crucial step is to process the text data for sentiment analysis. This step involves cleaning and translating the content to ensure uniformity and accuracy in the analysis.\n",
    "\n",
    "### Cleaning Process\n",
    "The cleaning process includes several actions:\n",
    "- **Lowercasing**: Converts all text to lowercase to standardize the text and avoid duplication of words based on case differences.\n",
    "- **Punctuation Removal**: Strips all punctuation from the text, as it does not contribute to sentiment and can interfere with text processing.\n",
    "- **Tokenization**: Splits the text into individual words or tokens. This step is essential for the removal of stopwords.\n",
    "- **Stopwords Removal**: Eliminates common words like 'the', 'is', and 'in', which do not carry significant sentiment and are frequent across all types of text.\n",
    "\n",
    "### Translation\n",
    "Since the news articles may be in various languages, it's necessary to translate them into English to maintain consistency across the dataset:\n",
    "- **Language Detection**: Identifies the language of each article using the `langdetect` library.\n",
    "- **Translation**: Utilizes the `googletrans` library to translate non-English text to English.\n",
    "\n",
    "### Code Implementation\n",
    "The processing is implemented through two functions:\n",
    "- `clean_and_translate`: Cleans and translates a single string of text.\n",
    "- `process_data`: Iterates over all articles, applying the `clean_and_translate` function to the title and description of each article.\n",
    "\n",
    "Here is a high-level overview of the functions which will be used:\n",
    "\n",
    "- `clean_and_translate(text)`: Cleans and translates the given text to English if it's detected to be in another language.\n",
    "- `process_data(articles)`: Processes a list of articles, cleaning and translating the titles and descriptions of each."
   ]
  },
  {
   "cell_type": "code",
   "execution_count": 2,
   "metadata": {},
   "outputs": [
    {
     "name": "stdout",
     "output_type": "stream",
     "text": [
      "{'description': 'The last few years have been, to put it mildly, rough. And 2023 continued to bring sad tidings. Amid the humanitarian crisis that is the Palestine-Israeli conflict, plus increased fears around the credibility and reliability of AI and Elon Musk’s ongoing melt…', 'publishedAt': '2023-12-29T17:00:17Z', 'cleaned_description': 'last years put mildly rough 2023 continued bring sad tidings amid humanitarian crisis palestineisraeli conflict plus increased fears around credibility reliability ai elon musk ’ ongoing melt…'}\n",
      "{'description': 'On Telegram, scammers are impersonating doctors to sell fake Covid-19 vaccination certificates and other products, showing how criminals are taking advantage of conspiracy theories.', 'publishedAt': '2023-12-18T12:00:00Z', 'cleaned_description': 'telegram scammers impersonating doctors sell fake covid19 vaccination certificates products showing criminals taking advantage conspiracy theories'}\n",
      "{'description': 'Worldcoin, Sam Altman’s cryptocurrency venture, is now integrating its verification services into popular apps such as Reddit, Discord, Shopify, Mercado Libre, Telegram, and Minecraft. The move is part of Altman’s World ID 2.0, which describes itself as “a hu…', 'publishedAt': '2023-12-13T17:45:00Z', 'cleaned_description': 'worldcoin sam altman ’ cryptocurrency venture integrating verification services popular apps reddit discord shopify mercado libre telegram minecraft move part altman ’ world id 20 describes “ hu…'}\n",
      "{'description': \"Add to a charity haul that's already raised over $17,000 in just a few weeks.\", 'publishedAt': '2023-12-14T15:56:33Z', 'cleaned_description': 'add charity haul thats already raised 17000 weeks'}\n",
      "{'description': \"Add to a charity haul that's already raised over $14,000 in less than two weeks.\", 'publishedAt': '2023-12-08T19:41:47Z', 'cleaned_description': 'add charity haul thats already raised 14000 less two weeks'}\n",
      "{'description': \"Enter by the end of the day and add to this year's charity haul of over $26,000.\", 'publishedAt': '2024-01-02T15:52:21Z', 'cleaned_description': 'enter end day add years charity haul 26000'}\n",
      "{'description': \"San Francisco Fed President Mary Daly said it's appropriate for the central bank to begin considering rate cuts in 2024.\", 'publishedAt': '2023-12-19T14:44:31Z', 'cleaned_description': 'san francisco fed president mary daly said appropriate central bank begin considering rate cuts 2024'}\n",
      "{'description': 'Bitcoin and other digital currencies are rallying, emerging from a stormy period with the conviction that crypto is here to stay.', 'publishedAt': '2023-12-26T10:00:50Z', 'cleaned_description': 'bitcoin digital currencies rallying emerging stormy period conviction crypto stay'}\n",
      "{'description': 'An anonymous reader quotes a report from The Guardian: A chief executive officer whose claimed qualifications appear to have no basis in fact was used to promote the HyperVerse crypto fund, alongside celebrity messages of support, as part of a push to recruit…', 'publishedAt': '2024-01-03T23:50:00Z', 'cleaned_description': 'anonymous reader quotes report guardian chief executive officer whose claimed qualifications appear basis fact used promote hyperverse crypto fund alongside celebrity messages support part push recruit…'}\n",
      "{'description': \"James Gorman said the rich shouldn't bet big on bitcoin, there wasn't a banking crisis last year, and interest rates are likely to drop this year.\", 'publishedAt': '2024-01-04T11:28:57Z', 'cleaned_description': 'james gorman said rich shouldnt bet big bitcoin wasnt banking crisis last year interest rates likely drop year'}\n",
      "{'description': \"A rise in cryptocurrency mining facilities in Texas and other states has come under scrutiny for the industry's ties to Chinese investment.\", 'publishedAt': '2023-12-26T14:46:23Z', 'cleaned_description': 'rise cryptocurrency mining facilities texas states come scrutiny industrys ties chinese investment'}\n",
      "{'description': \"Stocks defied Wall Street's gloomy predictions, bonds suffered a historic rout, and the US economy dodged a long-expected recession this year.\", 'publishedAt': '2023-12-28T11:08:26Z', 'cleaned_description': 'stocks defied wall streets gloomy predictions bonds suffered historic rout us economy dodged longexpected recession year'}\n",
      "{'description': \"In today's big story, we're diving into the unsealed court documents naming more than 170 Jeffrey Epstein associates.\", 'publishedAt': '2024-01-04T14:38:52Z', 'cleaned_description': 'todays big story diving unsealed court documents naming 170 jeffrey epstein associates'}\n",
      "{'description': \"Robert Kiyosaki says the American government will print money aggressively to cover its spiraling debt costs, eroding the dollar's value.\", 'publishedAt': '2023-12-07T10:54:06Z', 'cleaned_description': 'robert kiyosaki says american government print money aggressively cover spiraling debt costs eroding dollars value'}\n",
      "{'description': 'A former Amazon engineer pleaded guilty to hacking two crypto exchanges and stealing $12.3 million in the first ever conviction involving smart contracts.', 'publishedAt': '2023-12-17T04:53:16Z', 'cleaned_description': 'former amazon engineer pleaded guilty hacking two crypto exchanges stealing 123 million first ever conviction involving smart contracts'}\n",
      "{'description': 'It has been a bad year for crypto, with prices crashing and key figures like Sam Bankman-Fried going to jail. Experts say crypto influencers and startups have responded by pivoting hard toward AI.', 'publishedAt': '2023-12-23T10:00:01Z', 'cleaned_description': 'bad year crypto prices crashing key figures like sam bankmanfried going jail experts say crypto influencers startups responded pivoting hard toward ai'}\n",
      "{'description': \"Is Andriy Yermak, Zelensky's right-hand man, handing war-torn Ukraine over to the oligarchs?\", 'publishedAt': '2023-12-18T10:53:01Z', 'cleaned_description': 'andriy yermak zelenskys righthand man handing wartorn ukraine oligarchs'}\n",
      "{'description': 'El Salvador’s ambitious plan to issue $1 billion in sovereign “Volcano Bonds” backed by Bitcoin has cleared a significant obstacle, […]\\nThe post El Salvador Bitcoin bonds clear regulatory hurdle appeared first on ReadWrite.', 'publishedAt': '2023-12-12T19:30:08Z', 'cleaned_description': 'el salvador ’ ambitious plan issue 1 billion sovereign “ volcano bonds ” backed bitcoin cleared significant obstacle … post el salvador bitcoin bonds clear regulatory hurdle appeared first readwrite'}\n",
      "{'description': 'The cryptocurrency market kicked off the new year with a bang as Bitcoin surged past the $45,000 mark for the […]\\nThe post Bitcoin soars above $45,000 in New Year rally, eyes on SEC for ETF approvals appeared first on ReadWrite.', 'publishedAt': '2024-01-02T10:24:46Z', 'cleaned_description': 'cryptocurrency market kicked new year bang bitcoin surged past 45000 mark … post bitcoin soars 45000 new year rally eyes sec etf approvals appeared first readwrite'}\n",
      "{'description': 'The price of Bitcoin has seen its biggest value boost since the 2022 cryptocurrency market crash. On Wednesday (Dec. 6) […]\\nThe post Bitcoin price surges by 175% amid US ETF hopes appeared first on ReadWrite.', 'publishedAt': '2023-12-06T13:49:16Z', 'cleaned_description': 'price bitcoin seen biggest value boost since 2022 cryptocurrency market crash wednesday dec 6 … post bitcoin price surges 175 amid us etf hopes appeared first readwrite'}\n",
      "{'description': 'Bitcoin experienced an 8% slump on Wednesday (Jan.3) after $400m was liquidated in the space of just two hours. The […]\\nThe post Bitcoin price: $400m liquidation leads to significant slump appeared first on ReadWrite.', 'publishedAt': '2024-01-03T16:41:52Z', 'cleaned_description': 'bitcoin experienced 8 slump wednesday jan3 400m liquidated space two hours … post bitcoin price 400m liquidation leads significant slump appeared first readwrite'}\n",
      "{'description': 'In November 2022, the cybersecurity group vx-underground claimed on social media that unknown hackers had breached the now-defunct Bitcoin ATM […]\\nThe post Coin Cloud bankruptcy leaves customers at risk appeared first on ReadWrite.', 'publishedAt': '2023-12-12T20:37:48Z', 'cleaned_description': 'november 2022 cybersecurity group vxunderground claimed social media unknown hackers breached nowdefunct bitcoin atm … post coin cloud bankruptcy leaves customers risk appeared first readwrite'}\n",
      "{'description': 'In the latest high-profile gaming hack, it seems Spiderman 2, and current Wolverine developer Insomniac Games has been breached, by […]\\nThe post PlayStation game dev hit by major ransomware attack – stolen data being auctioned off appeared first on ReadWrite.', 'publishedAt': '2023-12-12T16:45:11Z', 'cleaned_description': 'latest highprofile gaming hack seems spiderman 2 current wolverine developer insomniac games breached … post playstation game dev hit major ransomware attack – stolen data auctioned appeared first readwrite'}\n",
      "{'description': 'Hacker group Rhysida made good on a promise to leak gaming and personal data related to Insomniac Games. This has […]\\nThe post Insomniac leak: Rhysida hack sparks rally of support for game developer appeared first on ReadWrite.', 'publishedAt': '2023-12-19T15:01:51Z', 'cleaned_description': 'hacker group rhysida made good promise leak gaming personal data related insomniac games … post insomniac leak rhysida hack sparks rally support game developer appeared first readwrite'}\n",
      "{'description': 'Después del hackeo y la masiva filtración de datos que sufrió días atrás, Insomniac Games por fin rompió el silencio. El estudio perteneciente a PlayStation publicó un comunicado en su cuenta de X (Twitter), refiriéndose al incidente y a las consecuencias del…', 'publishedAt': '2023-12-22T17:23:11Z', 'cleaned_description': 'hacking massive data filtration suffered days ago insomniac games finally broke silencethe study belonging playstation published statement x twitter account referring incident consequences'}\n",
      "{'description': 'Desafortunadamente, Insominac Games, el estudio detrás de títulos como Ratchet & Clank y Spider-Man, sufrió un hackeo en su red interna. Los atacantes exigieron una suma de 50 Bitcoin con tal de no revelar la información obtenida. Cifra que, desde luego, no f…', 'publishedAt': '2023-12-13T23:01:00Z', 'cleaned_description': 'unfortunately insomable games study behind titles ratchet clank spiderman suffered hacking internal networkthe attackers demanded sum 50 bitcoin order reveal information obtainedfigure course f'}\n",
      "{'description': 'Un nuevo ciberataque pone en jaque a Sony. Esta vez, la víctima sería Insomniac Games, el estudio detrás de la exitosa franquicia Spider-Man de PlayStation. El grupo de ransomware Rhysida afirma haber hackeado la compañía y robado información del nuevo juego …', 'publishedAt': '2023-12-12T17:45:28Z', 'cleaned_description': 'new cyber attack puts sony checkthis time victim would insomniac games study behind successful spiderman franchise playstationthe ransomware rhysida group claims hacked company stole information new game'}\n",
      "{'description': 'You probably don’t notice keyboard latency when typing or doing mundane tasks, but if you start gaming, that’s also when you might start complaining. Every millisecond counts in that arena. …read more', 'publishedAt': '2023-12-10T12:00:53Z', 'cleaned_description': 'probably ’ notice keyboard latency typing mundane tasks start gaming ’ also might start complaining every millisecond counts arena …read'}\n",
      "{'description': 'It seems like mechanical keyboard enthusiasts are more spoiled for choice with each passing day. But as broad as the open source pool has become, there’s still no perfect keyboard for everyon…', 'publishedAt': '2023-12-20T18:00:54Z', 'cleaned_description': 'seems like mechanical keyboard enthusiasts spoiled choice passing day broad open source pool become ’ still perfect keyboard everyon…'}\n",
      "{'description': 'Rockstar Games released its Grand Theft Auto 6 trailer a day early, after it got leaked. In some ways, leaks have become part of GTA 6’s story.', 'publishedAt': '2023-12-05T23:15:00Z', 'cleaned_description': 'rockstar games released grand theft auto 6 trailer day early got leaked ways leaks become part gta 6 ’ story'}\n",
      "{'description': 'What TV shows and films released on Netflix this month should you watch? Here’s a list with our editor’s pick recommendation (it’s not Taylor Swift’s Cats).', 'publishedAt': '2024-01-01T13:05:00Z', 'cleaned_description': 'tv shows films released netflix month watch ’ list editor ’ pick recommendation ’ taylor swift ’ cats'}\n",
      "{'description': 'The first line in the trailer for Netflix\\'s Bitconned is one of the scammers, free as a bird, saying \"Ever since I was a kid, I always wanted to be a criminal.\" \\n\\n\\n\\n\\n\\r\\n\\n\\r\\n\\n\\n\\n\\n\\nIn 2017, amidst the economic frenzy of the Bitcoin boom, there was no better place …', 'publishedAt': '2023-12-06T15:05:37Z', 'cleaned_description': 'first line trailer netflixs bitconned one scammers free bird saying ever since kid always wanted criminal 2017 amidst economic frenzy bitcoin boom better place …'}\n",
      "{'description': 'Tras un largo criptoinvierno, as últimas semanas parecen estar apuntando a un cambio de tendencia importante en el mercado de las criptodivisas. Si hace una semana bitcoin superaba los 35.000 dólares de valor, esa progresión ha continuado y estamos asistiendo…', 'publishedAt': '2023-12-05T08:01:47Z', 'cleaned_description': 'long crypto winter last weeks seem aiming important change cryptodivisas marketif week ago bitcoin exceeded 35000 progression continued attending'}\n",
      "{'description': 'United Launch Alliance (ULA) necesita un poco más de tiempo para lanzar la primera misión lunar de Estados Unidos en más de 50 años. El lanzamiento marcará también el debut del cohete Vulcan Centaur, que utiliza motores de metano de Blue Origin (la empresa ae…', 'publishedAt': '2023-12-15T13:18:47Z', 'cleaned_description': 'united launch alliance ula needs little time launch first lunar mission united states 50 yearsthe launch also mark debut rocket vulcan centaur uses blue origin methane engines ae company'}\n",
      "{'description': 'Jerry Yu estudia en la Universidad de Nueva York, tiene 23 años y es uno de tantos ciudadanos chinos residente en Estados Unidos. Hasta ahí nada extraño. A lo largo de los últimos días Yu ha protagonizado sin embargo un buen número de titulares en medios inte…', 'publishedAt': '2023-12-31T17:01:38Z', 'cleaned_description': 'jerry yu studies university new york 23 years old one many chinese citizens residing united statesso far strangethroughout last days yu staged however good number headlines inte media'}\n",
      "{'description': '2023 ha sido un año muy movido en el ámbito de las criptomonedas. No tanto por la montaña rusa de subidas y bajadas a las que nos tienen acostumbrados las divisas digitales, sino por el hundimiento junto a sus empresas de tres personajes clave en la historia …', 'publishedAt': '2023-12-30T10:01:34Z', 'cleaned_description': '2023 moved year field cryptocurrenciesnot much roller coaster ups downs digital currencies accustomed us sinking companies three key characters history'}\n",
      "{'description': 'La empresa que se consideraba como el gran referente cripto en el campo de la seguridad ha tenido un 2023 para olvidar. Tras la polémica con Ledger Recover, ahora se le junta un problema todavía más grave. Sus sistemas conectados han sido comprometidos.\\n<!-- …', 'publishedAt': '2023-12-15T13:31:30Z', 'cleaned_description': 'company considered great referent crypt field security 2023 forgetafter controversy ledger recover even serious problem joinedits connected systems compromised …'}\n",
      "{'description': 'Comprar deuda pública española se ha convertido en la inversión por excelencia de la mayoría de los españoles este año. Si bien el alza de los tipos de interés\\r\\n y la brutal inflación han golpeado con fuerza en bolsillo de las familias\\r\\n con hipotecas y renta…', 'publishedAt': '2023-12-14T09:01:29Z', 'cleaned_description': 'buying spanish public debt become par excellence spaniards yearwhile rise interest rates brutal inflation hit families pocket mortgages rent'}\n",
      "{'description': 'We asked a few badass colleagues and expert Trendsters what they think will be huge in 2024. Here’s what they said.', 'publishedAt': '2023-12-20T02:00:00Z', 'cleaned_description': 'asked badass colleagues expert trendsters think huge 2024 ’ said'}\n",
      "{'description': 'In 2023, the Oxford English Dictionary again updated its lexicon, adding 80 new weird words and phrases. \\nFrom technological jargon like “Bitcoin” and “Deepfake” to colloquial gems such as “Bestie” and “Binge-Watching,” the OED continues to capture the ever-e…', 'publishedAt': '2024-01-03T12:00:00Z', 'cleaned_description': '2023 oxford english dictionary updated lexicon adding 80 new weird words phrases technological jargon like “ bitcoin ” “ deepfake ” colloquial gems “ bestie ” “ bingewatching ” oed continues capture evere…'}\n",
      "{'description': 'Hindsight is our finest instrument for discerning the patterns of our lives. To look back on a year of reading, a year of writing, is to discover a secret map of the mind, revealing the landscape of living — after all, how we spend our thoughts is how we spen…', 'publishedAt': '2023-12-28T18:05:03Z', 'cleaned_description': 'hindsight finest instrument discerning patterns lives look back year reading year writing discover secret map mind revealing landscape living — spend thoughts spen…'}\n",
      "{'description': 'President Bukele says that the country is now making a profit on Bitcoin investment amid economic and social reforms in the country.', 'publishedAt': '2023-12-13T13:20:51Z', 'cleaned_description': 'president bukele says country making profit bitcoin investment amid economic social reforms country'}\n",
      "{'description': \"The debut of Society of the Snow and Dan Levy's Good Grief, plus the addition of the hit show This is Us, highlight Netflix's January 2024 schedule.\", 'publishedAt': '2023-12-13T19:24:54Z', 'cleaned_description': 'debut society snow dan levys good grief plus addition hit show us highlight netflixs january 2024 schedule'}\n",
      "{'description': 'Our first full episode of “Beyond The Price” is out! Entitled “Bitcoin is Crucial Climate Tech”, Bradley speaks with CH4 Capital co-founder and Bitcoin mining researcher Daniel Batten about the…', 'publishedAt': '2024-01-02T06:44:47Z', 'cleaned_description': 'first full episode “ beyond price ” entitled “ bitcoin crucial climate tech ” bradley speaks ch4 capital cofounder bitcoin mining researcher daniel batten the…'}\n",
      "{'description': 'New advertisements by Coinbase, a cryptocurrency exchange, prey on the financial anxieties of Gen Z and other young adults. The ads, which are on heavy rotation on cable television, depict the modern economic system as rigged. In one of the ads, a young woman…', 'publishedAt': '2023-12-14T16:38:59Z', 'cleaned_description': 'new advertisements coinbase cryptocurrency exchange prey financial anxieties gen z young adults ads heavy rotation cable television depict modern economic system rigged one ads young woman…'}\n",
      "{'description': 'We have made two fomal complaints to the UN High Commissioner for Human Rights, one over my incarceration for Contempt of Court, and one over continuing police harassment including the investigation for “terrorism” of which I am now the subject. In a meeting …', 'publishedAt': '2023-12-11T14:23:24Z', 'cleaned_description': 'made two fomal complaints un high commissioner human rights one incarceration contempt court one continuing police harassment including investigation “ terrorism ” subject meeting …'}\n",
      "{'description': 'On October 31, 2023, the British Library suffered a massive cyberattack. Since then, what has been lost?', 'publishedAt': '2023-12-15T19:36:49Z', 'cleaned_description': 'october 31 2023 british library suffered massive cyberattack since lost'}\n",
      "{'description': 'Comments', 'publishedAt': '2023-12-21T08:49:10Z', 'cleaned_description': 'comments'}\n",
      "{'description': 'Plus! Accredited Investors; Gambling on Gambling; Price Discrimination; In Play; Even More Product Convergence; Diff Jobs', 'publishedAt': '2023-12-19T12:04:24Z', 'cleaned_description': 'plus accredited investors gambling gambling price discrimination play even product convergence diff jobs'}\n",
      "{'description': 'Seit dem Herbst geht es für den Bitcoin wieder steil nach oben. Hintergrund ist die Hoffnung auf eine Freigabe es des ersten Bitcoin-ETFs durch die SEC.', 'publishedAt': '2024-01-02T09:08:00Z', 'cleaned_description': 'since autumn bitcoin going againthe background hope releasing first bitcoin etf sec'}\n",
      "{'description': 'Vor dem Hintergrund des steigenden Bitcoin-Kurses verspüren auch die Neo-Broker einen Aufwind: Der Pionier Robinhood wagt den Schritt über den großen Teich.', 'publishedAt': '2023-12-07T16:57:00Z', 'cleaned_description': 'background rising bitcoin course neobrokers also feel update pioneer robinhood takes step large pond'}\n",
      "{'description': 'Die Bloggerin Molly White dokumentiert die Pleiten und Betrügereien von Blockchain-Firmen. Wir haben sie zur Lage und Entwicklungen in der Branche befragt.', 'publishedAt': '2024-01-04T16:30:00Z', 'cleaned_description': 'blogger molly white documents bankruptcy fraud blockchain companieswe asked situation developments industry'}\n",
      "{'description': 'Big-Tech-Konzerne gehen nach satten Kurs- und Gewinnsteigerungen 2023 gestärkt ins neue Jahr. 2024 könnte so interessant wie lange nicht mehr werden.\\u200b', 'publishedAt': '2023-12-28T10:45:00Z', 'cleaned_description': 'big tech groups go new year rich price profit increases 20232024 could interesting hasnt long time'}\n",
      "{'description': 'BKA & Co. haben einen weiteren Darknet-Marktplatz abgeschaltet. Über 42.000 kriminelle Angebote von Drogen bis zu Schadsoftware sind damit nicht mehr verfügbar.', 'publishedAt': '2023-12-20T16:06:00Z', 'cleaned_description': 'bka co switched another darknet marketplaceover 42000 criminal offers drugs malware longer available'}\n",
      "{'description': 'Hyperloop One liquidiert + Lapsus$-Täter verurteilt + Deregulierung in Argentinien pro Krypto + Leistungsbegrenzungen erklärt + Geständnis eines iPhone-Gauners', 'publishedAt': '2023-12-22T05:30:00Z', 'cleaned_description': 'hyperloop one liquidated lapsus perpetrator convicted deregulation argentina per crypto performance limits declared confession iphone crook'}\n",
      "{'description': 'Wer in Kryptowährungen investieren möchte, muss keine Coins kaufen und mit Wallets hantieren. Möglich machen das zahlreiche Wertpapiere wie ETFs und ETNs.', 'publishedAt': '2023-12-14T06:30:00Z', 'cleaned_description': 'want invest cryptocurrencies dont buy coins handle walletnumerous securities etfs etns make possible'}\n",
      "{'description': 'Die Kryptobörse FTX wird nicht auferstehen. So soll die Masse verteilt werden.', 'publishedAt': '2023-12-19T04:47:00Z', 'cleaned_description': 'ftx crypto tour resurrectedthis mass distributed'}\n",
      "{'description': '\"We are very transparent\", versprach EXW. Eine Kryptowährung und Trading-Bots sollten Anleger reich machen. Das Geld haben nun andere.\\u200b', 'publishedAt': '2023-12-14T03:31:00Z', 'cleaned_description': 'transparent promised exwinvestors make cryptocurrency trading bots richothers money'}\n",
      "{'description': 'El gobierno del El Salvador decidió que este país centroamericano sería el primero del mundo en hacer del bitcoin moneda oficial en el país en verano de 2021. El balance por ahora no es positivo, por muchos motivos, entre otros la caída de la mayor de las cri…', 'publishedAt': '2023-12-11T13:31:04Z', 'cleaned_description': 'el salvador government decided central american country would first world make official currency country summer 2021 balance positive many reasons among others fall largest largest thecri'}\n",
      "{'description': 'Las criptomonedas suelen ser bastante anónimas, pero si no pagas a tus contratistas puedes poner ese anonimato en peligro. Entre las historias raras de las criptomonedas que casi parecen más ficción que realidad, hoy tenemos la de este estudiante que, por no …', 'publishedAt': '2023-12-26T11:35:37Z', 'cleaned_description': 'cryptocurrencies usually quite anonymous dont pay contractors put anonymity dangeramong rare stories cryptocurrencies almost seem fiction reality today student'}\n",
      "{'description': 'Jonny Platt, fundador de SeoScout, una herramienta de análisis de textos \\xa0en internet, fue víctima de un hackeo y se encontró con que Amazon y su página de soporte no ofrecía una solución para hacer frente a su problema.\\n<!-- BREAK 1 -->\\nConcretamente, hackea…', 'publishedAt': '2023-12-26T17:19:16Z', 'cleaned_description': 'jonny platt founder seoscout tool text analysis internet victim hacking found amazon support page offer solution deal problem break 1 specifically hackea'}\n",
      "{'description': 'The first vehicles to fly under NASA’s new lunar delivery initiative will aim to be the first commercial spacecraft to land softly on another celestial body', 'publishedAt': '2023-12-21T15:30:00Z', 'cleaned_description': 'first vehicles fly nasa ’ new lunar delivery initiative aim first commercial spacecraft land softly another celestial body'}\n",
      "{'description': \"A weekly look at the most important moves and news in crypto and what's on the horizon in digital assets.\", 'publishedAt': '2023-12-27T19:24:00Z', 'cleaned_description': 'weekly look important moves news crypto whats horizon digital assets'}\n",
      "{'description': 'Short-term, the Santa Claus rally looks solid.', 'publishedAt': '2023-12-27T22:32:00Z', 'cleaned_description': 'shortterm santa claus rally looks solid'}\n",
      "{'description': 'The ARK Innovation ETF was previously a seller of Tesla stock, which is one of its largest holdings.', 'publishedAt': '2023-12-21T12:51:00Z', 'cleaned_description': 'ark innovation etf previously seller tesla stock one largest holdings'}\n",
      "{'description': 'Small-caps had a great end to 2023, but hedge funds may only be covering their shorts. Beware says our call of the day.', 'publishedAt': '2024-01-02T12:07:00Z', 'cleaned_description': 'smallcaps great end 2023 hedge funds may covering shorts beware says call day'}\n",
      "{'description': 'Interview with Andrew Rosener on The Tim Ferriss Show podcast \\nThe post Andrew Rosener — The Path from Scallop Kingpin to Selling 8-Figure Domains, Achieving Financial Freedom, and How to Live a Contrarian Life (#711) appeared first on The Blog of Author Tim …', 'publishedAt': '2023-12-20T20:39:47Z', 'cleaned_description': 'interview andrew rosener tim ferriss show podcast post andrew rosener — path scallop kingpin selling 8figure domains achieving financial freedom live contrarian life 711 appeared first blog author tim …'}\n",
      "{'description': 'Bitcoin and related companies are selling off on Wednesday after a research report predicted the SEC would not approve the spot bitcoin ETF this month.', 'publishedAt': '2024-01-03T18:19:00Z', 'cleaned_description': 'bitcoin related companies selling wednesday research report predicted sec would approve spot bitcoin etf month'}\n",
      "{'description': \"One of Cathie Wood’s exchange-traded funds has sold all its holdings of Grayscale Bitcoin Trust over uncertainty around whether the trust's conversion to an ETF would be approved.\", 'publishedAt': '2023-12-28T17:55:00Z', 'cleaned_description': 'one cathie wood ’ exchangetraded funds sold holdings grayscale bitcoin trust uncertainty around whether trusts conversion etf would approved'}\n",
      "{'description': 'Bitcoin rallied over 150% on the year-to-date. A changing of the guards may be partly why.', 'publishedAt': '2023-12-18T12:30:00Z', 'cleaned_description': 'bitcoin rallied 150 yeartodate changing guards may partly'}\n",
      "{'description': \"April 2023 was about looking back to the work of Steve Jobs, of Jony Ive, and of Ted Lasso, plus pressing ahead into India and the future of iMessage outside of Apple's platform.From the front cover of the new Steve Jobs bookWhere March 2023 had the mid-cycle…\", 'publishedAt': '2023-12-27T18:30:18Z', 'cleaned_description': 'april 2023 looking back work steve jobs jony ive ted lasso plus pressing ahead india future imessage outside apples platformfrom front cover new steve jobs bookwhere march 2023 midcycle…'}\n",
      "{'description': \"La société Américaine Gen™ (ex Symantec, ex NortonLifeLock) vient de publier ses prévisions pour 2024 en matière de cybermenaces. Voici les grandes tendances que le géant de la sécurité informatique anticipe pour l'année à venir.\\nIA, crypto, réseaux sociaux\\xa0:…\", 'publishedAt': '2023-12-20T18:05:49Z', 'cleaned_description': 'american company gen ™ ex symantec ex nortonliflock published forecasts 2024 terms cyberrencieshere main trends security giant anticipates coming year ai crypto social networks…'}\n",
      "{'description': 'Traditionally speaking, industrial designers need industrial clients. But the skillset conferred by ID experience overlaps well with what design entrepreneurs need to do their own thing. Here are some examples of the industrial design entrepreneurs and pionee…', 'publishedAt': '2023-12-29T15:00:00Z', 'cleaned_description': 'traditionally speaking industrial designers need industrial clients skillset conferred id experience overlaps well design entrepreneurs need thing examples industrial design entrepreneurs pionee…'}\n",
      "{'description': \"No hay nada más navideño que imaginarse un paisaje nevado y Apple, que es muy dada a ciertas celebraciones, no elude la Navidad y ya ofrece en su aplicación 'Apple Store' su particular huevo de pascua con el que precisamente pinta el paisaje de la app con nie…\", 'publishedAt': '2023-12-14T08:01:28Z', 'cleaned_description': 'nothing christmas imagine snowy apple landscape given certain celebrations avoid christmas already offers application apple store particular easter egg precisely paints landscape appwith nie'}\n",
      "{'description': 'The gaming industry have come together to condemn the leaks that Insomniac Games has suffered by a vicious cyber attack.\\nThe post Insomniac Games Cyberattack condemned by industry appeared first on Phandroid.', 'publishedAt': '2023-12-19T20:39:26Z', 'cleaned_description': 'gaming industry come together condemn leaks insomniac games suffered vicious cyber attack post insomniac games cyberattack condemned industry appeared first phandroid'}\n",
      "{'description': 'Deux fonctionnaires de la Banque centrale européenne affirment que la cryptomonnaie est en fin de course.', 'publishedAt': '2023-12-06T09:30:08Z', 'cleaned_description': 'two officials european central bank claim cryptocurrency end race'}\n",
      "{'description': 'Depuis lundi le Bitcoin et les autres crypto reprennent de la vigueur - avec notamment le BTC autour des 40\\xa0000 euros. Pourquoi cette situation et surtout est-ce durable\\xa0?', 'publishedAt': '2023-12-05T19:24:14Z', 'cleaned_description': 'since monday bitcoin crypto gaining vigor notably btc around 40000 euroswhy situation durable'}\n",
      "{'description': \"After Rockstar Games dropped the GTA 6 trailer early--thanks in part to Bitcoin peddlers ruining Rockstar's moment--the internet quickly began discussing the game. Its debut trailer has been dissected and analyzed, theories are piling up, and GTA 6 has alread…\", 'publishedAt': '2023-12-05T14:55:00Z', 'cleaned_description': 'rockstar games dropped gta 6 trailer earlythanks part bitcoin peddlers ruining rockstars momentthe internet quickly began discussing game debut trailer dissected analyzed theories piling gta 6 alread…'}\n",
      "{'description': \"Hackers who stole information from Marvel's Spider-Man 2 developer Insomniac Games have released much of that data into the wild, reportedly after Sony refused to pay a ransom for the return of those files. The group--Rhysida --demanded a payment of 50 BitCoi…\", 'publishedAt': '2023-12-19T15:02:00Z', 'cleaned_description': 'hackers stole information marvels spiderman 2 developer insomniac games released much data wild reportedly sony refused pay ransom return files grouprhysida demanded payment 50 bitcoi…'}\n",
      "{'description': 'Change your IP address to locations in 69 countries with ProtonVPN on desktop and mobile.', 'publishedAt': '2023-12-15T18:01:19Z', 'cleaned_description': 'change ip address locations 69 countries protonvpn desktop mobile'}\n",
      "{'description': 'Der Preis für Bitcoin ist zum ersten Mal seit mehr als acht Monaten wieder auf mehr als 45.000 US-Dollar gestiegen. Bald wird über die Zulassung eines Bitcoin-ETF entschieden. (Bitcoin, Börse)', 'publishedAt': '2024-01-03T06:58:01Z', 'cleaned_description': 'price bitcoin increased 45000 first time eight monthsit soon decided approval bitcoin etfbitcoin stock exchange'}\n",
      "{'description': 'Inspired by Tom Whitwell’s annual list, I kept track of some things I learned this year, one for each week. Here we go:\\n\\nCia', 'publishedAt': '2023-12-26T16:38:09Z', 'cleaned_description': 'inspired tom whitwell ’ annual list kept track things learned year one week go cia'}\n",
      "{'description': 'Happy New Year!\\xa0 Kick it off right with our first day of the year reads: • Everything Wall Street Got Wrong in 2023: Stocks were supposed to slump and bonds rally as the Fed drove the US into a recession. It didn’t play out as strategists expected. (Bloomberg…', 'publishedAt': '2024-01-01T11:30:49Z', 'cleaned_description': 'happy new year kick right first day year reads • everything wall street got wrong 2023 stocks supposed slump bonds rally fed drove us recession ’ play strategists expected bloomberg…'}\n",
      "{'description': 'Tyler Cowen and his colleague Alex Tabarrok write some interesting posts over at Marginal Revolution. Sometimes I agree with them, sometimes I disagree with them. Recently, a post utterly perplexed me: “One doesn’t get a favorable impression of crypto from\\xa0Nu…', 'publishedAt': '2023-12-13T15:00:10Z', 'cleaned_description': 'tyler cowen colleague alex tabarrok write interesting posts marginal revolution sometimes agree sometimes disagree recently post utterly perplexed “ one ’ get favorable impression crypto nu…'}\n",
      "{'description': 'The transcript from this week’s, MiB: Stephen Suttmeier, BAML Chief Equity Technical Strategist, is below. You can stream and download our full conversation, including any podcast extras, on Apple Podcasts, Spotify,\\xa0YouTube, and Bloomberg. All of our earlier …', 'publishedAt': '2023-12-26T14:00:50Z', 'cleaned_description': 'transcript week ’ mib stephen suttmeier baml chief equity technical strategist stream download full conversation including podcast extras apple podcasts spotify youtube bloomberg earlier …'}\n",
      "{'description': 'Une jeune start-up nantaise lance un projet inédit, un ordinateur sous forme de radiateur qui utilise la chaleur fatale\\xa0!', 'publishedAt': '2023-12-19T11:30:09Z', 'cleaned_description': 'young nantes startup launching unprecedented project computer form radiator uses fatal heat'}\n",
      "{'description': 'Une enquête a permis de retrouver la trace de revendeurs illégaux.', 'publishedAt': '2023-12-05T08:30:37Z', 'cleaned_description': 'investigation made possible find trace illegal resellers'}\n",
      "{'description': 'Welcome to What’s On, our weekly picks of must-watch shows. Here’s what you need to watch from Sunday, December 31 to Thursday, January 4. All times are Eastern. [Note: The weekend edition of What’s On drops on Fridays.]Read more...', 'publishedAt': '2023-12-31T13:00:00Z', 'cleaned_description': 'welcome ’ weekly picks mustwatch shows ’ need watch sunday december 31 thursday january 4 times eastern note weekend edition ’ drops fridaysread'}\n",
      "{'description': 'Crypto and bitcoin, among their other uses, are Rorschach tests for commentators. As these institutions evolve, are you capable of changing your mind and updating in response to new data? Sadly, many people are failing that test and instead staking out inflex…', 'publishedAt': '2023-12-09T06:06:49Z', 'cleaned_description': 'crypto bitcoin among uses rorschach tests commentators institutions evolve capable changing mind updating response new data sadly many people failing test instead staking inflex…'}\n",
      "{'description': 'Hier finden Sie Informationen zu dem Thema „Digitalwährung “. Lesen Sie jetzt „Bitcoin erstmals seit April 2022 über 45.000 US-Dollar“.', 'publishedAt': '2024-01-02T07:13:04Z', 'cleaned_description': 'find information topic digital currencynow read bitcoin first time since april 2022 45000'}\n",
      "{'description': 'Der Kurs der Digitalwährung fiel um fast 5.000 US-Dollar. Kurz zuvor war der Bitcoin noch so viel wert wie zuletzt 2022. Auch andere Kryptowährungen sind betroffen.', 'publishedAt': '2024-01-03T14:23:45Z', 'cleaned_description': 'course digital currency fell almost 5000shortly bitcoin still much worth much 2022 cryptocurrencies also affected'}\n",
      "{'description': 'Hier finden Sie Informationen zu dem Thema „Digitalwährung“. Lesen Sie jetzt „Bitcoin verliert deutlich: Jüngste Gewinne sind weg“.', 'publishedAt': '2024-01-03T13:38:37Z', 'cleaned_description': 'find information topic digital currencyread bitcoin loses clearly latest profits gone'}\n",
      "{'description': 'Der durchschnittliche Kryptoanleger ist männlich, weiß, westlich – und freute sich zuletzt über eine Rallye. Der Wirtschaftssoziologe Koray Caliskan erklärt den Hype.', 'publishedAt': '2024-01-03T13:32:59Z', 'cleaned_description': 'average crypto pier male white west recently happy rallythe economic sociologist koray caliskan explains hype'}\n",
      "{'description': 'Vor sieben Jahren hat er sein Restaurant eröffnet, nun steht dessen Ruf auf dem Spiel. Wie es wirklich ist, mit schlechten Bewertungen erpresst zu werden.', 'publishedAt': '2024-01-02T12:53:57Z', 'cleaned_description': 'opened restaurant seven years ago reputation stakehow really blackmailed bad reviews'}\n",
      "{'description': 'Straight into the moon, where I’ll be left in pieces among the wreckage of the craft!', 'publishedAt': '2024-01-04T13:00:00Z', 'cleaned_description': 'straight moon ’ left pieces among wreckage craft'}\n",
      "{'description': '2023 wasn’t the best year for some celebs we first met three decades ago.', 'publishedAt': '2023-12-07T16:00:00Z', 'cleaned_description': '2023 ’ best year celebs first met three decades ago'}\n",
      "{'description': 'As the top cryptocurrency, Bitcoin has seen explosive growth, but do you know who accepts Bitcoin as payment? This list is growing daily.', 'publishedAt': '2023-12-17T09:15:59Z', 'cleaned_description': 'top cryptocurrency bitcoin seen explosive growth know accepts bitcoin payment list growing daily'}\n",
      "{'description': 'Whether you choose a hard or soft wallet, here are some of the best cryptocurrency wallet options available to safely store your currency.', 'publishedAt': '2023-12-26T18:44:34Z', 'cleaned_description': 'whether choose hard soft wallet best cryptocurrency wallet options available safely store currency'}\n",
      "{'description': 'There are thousands of cryptocurrencies, with the best cryptocurrency app choices, you can better manage your sales and purchases securely.', 'publishedAt': '2023-12-26T18:38:29Z', 'cleaned_description': 'thousands cryptocurrencies best cryptocurrency app choices better manage sales purchases securely'}\n",
      "{'description': 'If you see yourself as an introvert, there are many perfect business options. These business ideas for introverts will inspire you to take the next step.', 'publishedAt': '2024-01-03T02:28:10Z', 'cleaned_description': 'see introvert many perfect business options business ideas introverts inspire take next step'}\n"
     ]
    }
   ],
   "source": [
    "from langdetect import detect\n",
    "from googletrans import Translator\n",
    "import nltk\n",
    "from nltk.corpus import stopwords\n",
    "import string\n",
    "\n",
    "# Initialize the Translator\n",
    "translator = Translator()\n",
    "\n",
    "def clean_and_translate(text):\n",
    "    \"\"\"\n",
    "    Cleans and translates the text to English. It lowercases, removes punctuation,\n",
    "    tokenizes, and removes stopwords. Translates non-English text to English.\n",
    "\n",
    "    Parameters:\n",
    "    text (str): Text to be processed.\n",
    "\n",
    "    Returns:\n",
    "    str: Processed and translated text.\n",
    "    \"\"\"\n",
    "    if not text:\n",
    "        return \"\"\n",
    "    try:\n",
    "        if detect(text) != 'en':\n",
    "            text = translator.translate(text, dest='en').text\n",
    "    except Exception as e:\n",
    "        print(f\"Translation error: {e}\")\n",
    "    text = text.lower()\n",
    "    text = text.translate(str.maketrans('', '', string.punctuation))\n",
    "    tokens = nltk.word_tokenize(text)\n",
    "    tokens = [word for word in tokens if word not in stopwords.words('english')]\n",
    "    return ' '.join(tokens)\n",
    "\n",
    "def process_data(articles):\n",
    "    \"\"\"\n",
    "    Processes a list of articles by cleaning and translating their descriptions.\n",
    "\n",
    "    Parameters:\n",
    "    articles (list): A list of articles.\n",
    "\n",
    "    Returns:\n",
    "    list: Processed list of articles with cleaned and translated descriptions.\n",
    "    \"\"\"\n",
    "    for article in articles:\n",
    "        article['cleaned_description'] = clean_and_translate(article['description'])\n",
    "    return articles\n",
    "\n",
    "# Processing the articles\n",
    "processed_articles = process_data(article_details)\n",
    "for processed_article in processed_articles:\n",
    "    print(processed_article)"
   ]
  },
  {
   "cell_type": "markdown",
   "metadata": {},
   "source": [
    "## Sentiment Analysis\n",
    "The sentiment analysis process involves:\n",
    "- **Calculating Sentiment Polarity**: Using the TextBlob library, we compute the sentiment polarity for each article's description. Sentiment polarity is a float value ranging from -1 (very negative) to +1 (very positive).\n",
    "- **Categorizing Sentiment**: Each sentiment score is categorized as 'positive', 'neutral', or 'negative'. This categorization is based on predefined thresholds (e.g., a polarity score above 0.1 is considered 'positive').\n",
    "\n",
    "### Code Implementation\n",
    "The implementation involves a function, `perform_sentiment_analysis`, which:\n",
    "1. Analyzes the sentiment of each cleaned description.\n",
    "2. Categorizes the sentiment based on the calculated score.\n",
    "3. Converts the publication date to a datetime format.\n",
    "4. Return the processed data with sentiment and date information."
   ]
  },
  {
   "cell_type": "code",
   "execution_count": 3,
   "metadata": {},
   "outputs": [
    {
     "name": "stdout",
     "output_type": "stream",
     "text": [
      "Performing sentiment analysis...\n",
      "Finished performing sentiment analysis.\n"
     ]
    },
    {
     "data": {
      "text/html": [
       "<div>\n",
       "<style scoped>\n",
       "    .dataframe tbody tr th:only-of-type {\n",
       "        vertical-align: middle;\n",
       "    }\n",
       "\n",
       "    .dataframe tbody tr th {\n",
       "        vertical-align: top;\n",
       "    }\n",
       "\n",
       "    .dataframe thead th {\n",
       "        text-align: right;\n",
       "    }\n",
       "</style>\n",
       "<table border=\"1\" class=\"dataframe\">\n",
       "  <thead>\n",
       "    <tr style=\"text-align: right;\">\n",
       "      <th></th>\n",
       "      <th>publishedAt</th>\n",
       "      <th>description</th>\n",
       "      <th>description_sentiment</th>\n",
       "      <th>description_sentiment_category</th>\n",
       "    </tr>\n",
       "  </thead>\n",
       "  <tbody>\n",
       "    <tr>\n",
       "      <th>0</th>\n",
       "      <td>2023-12-29 17:00:17+00:00</td>\n",
       "      <td>The last few years have been, to put it mildly...</td>\n",
       "      <td>-0.200000</td>\n",
       "      <td>negative</td>\n",
       "    </tr>\n",
       "    <tr>\n",
       "      <th>1</th>\n",
       "      <td>2023-12-18 12:00:00+00:00</td>\n",
       "      <td>On Telegram, scammers are impersonating doctor...</td>\n",
       "      <td>-0.500000</td>\n",
       "      <td>negative</td>\n",
       "    </tr>\n",
       "    <tr>\n",
       "      <th>2</th>\n",
       "      <td>2023-12-13 17:45:00+00:00</td>\n",
       "      <td>Worldcoin, Sam Altman’s cryptocurrency venture...</td>\n",
       "      <td>0.600000</td>\n",
       "      <td>positive</td>\n",
       "    </tr>\n",
       "    <tr>\n",
       "      <th>3</th>\n",
       "      <td>2023-12-14 15:56:33+00:00</td>\n",
       "      <td>Add to a charity haul that's already raised ov...</td>\n",
       "      <td>0.000000</td>\n",
       "      <td>neutral</td>\n",
       "    </tr>\n",
       "    <tr>\n",
       "      <th>4</th>\n",
       "      <td>2023-12-08 19:41:47+00:00</td>\n",
       "      <td>Add to a charity haul that's already raised ov...</td>\n",
       "      <td>-0.166667</td>\n",
       "      <td>negative</td>\n",
       "    </tr>\n",
       "  </tbody>\n",
       "</table>\n",
       "</div>"
      ],
      "text/plain": [
       "                publishedAt  \\\n",
       "0 2023-12-29 17:00:17+00:00   \n",
       "1 2023-12-18 12:00:00+00:00   \n",
       "2 2023-12-13 17:45:00+00:00   \n",
       "3 2023-12-14 15:56:33+00:00   \n",
       "4 2023-12-08 19:41:47+00:00   \n",
       "\n",
       "                                         description  description_sentiment  \\\n",
       "0  The last few years have been, to put it mildly...              -0.200000   \n",
       "1  On Telegram, scammers are impersonating doctor...              -0.500000   \n",
       "2  Worldcoin, Sam Altman’s cryptocurrency venture...               0.600000   \n",
       "3  Add to a charity haul that's already raised ov...               0.000000   \n",
       "4  Add to a charity haul that's already raised ov...              -0.166667   \n",
       "\n",
       "  description_sentiment_category  \n",
       "0                       negative  \n",
       "1                       negative  \n",
       "2                       positive  \n",
       "3                        neutral  \n",
       "4                       negative  "
      ]
     },
     "execution_count": 3,
     "metadata": {},
     "output_type": "execute_result"
    }
   ],
   "source": [
    "from textblob import TextBlob\n",
    "import pandas as pd\n",
    "\n",
    "def analyze_sentiment(text):\n",
    "    \"\"\"Calculate the sentiment polarity of the given text using TextBlob.\"\"\"\n",
    "    return TextBlob(text).sentiment.polarity\n",
    "\n",
    "def perform_sentiment_analysis(articles):\n",
    "    \"\"\"\n",
    "    Perform sentiment analysis on the cleaned descriptions of articles and add publication dates.\n",
    "    \n",
    "    Parameters:\n",
    "    articles (list of dict): A list of dictionaries that contains cleaned descriptions of articles and publication dates.\n",
    "    \n",
    "    Returns:\n",
    "    list of dict: The list with updated articles including sentiment scores, categories, and publication dates.\n",
    "    \"\"\"\n",
    "    print(\"Performing sentiment analysis...\")\n",
    "    for article in articles:\n",
    "        # Analyze sentiment for description\n",
    "        article['description_sentiment'] = analyze_sentiment(article['cleaned_description'])\n",
    "        \n",
    "        # Categorize sentiment for description\n",
    "        article['description_sentiment_category'] = 'positive' if article['description_sentiment'] > 0.1 else 'negative' if article['description_sentiment'] < -0.1 else 'neutral'\n",
    "        \n",
    "        # Convert 'publishedAt' to datetime\n",
    "        article['publishedAt'] = pd.to_datetime(article['publishedAt'])\n",
    "    print(\"Finished performing sentiment analysis.\")\n",
    "    return articles\n",
    "\n",
    "# Assuming 'article_details' contains the fetched articles with 'cleaned_description' and 'publishedAt'\n",
    "sentiment_analysis_results = perform_sentiment_analysis(processed_articles)\n",
    "\n",
    "# Create a DataFrame to view the sentiment analysis results along with publication dates\n",
    "df_sentiments = pd.DataFrame(sentiment_analysis_results)\n",
    "df_sentiments[['publishedAt', 'description', 'description_sentiment', 'description_sentiment_category']].head()"
   ]
  },
  {
   "cell_type": "markdown",
   "metadata": {},
   "source": [
    "## Step 4: Results Visualization\n",
    "After processing and analyzing the sentiment of the news articles, visualizing the results can provide a clearer and more intuitive understanding of the data.\n",
    "\n",
    "### Bar Chart: Sentiment Distribution Visualization\n",
    "- The chart represents the count of each sentiment category from the column 'description_sentiment_category' as bars.\n",
    "- The y-axis denotes the number of articles for each sentiment category.\n",
    "- The x-axis displays the sentiment categories."
   ]
  },
  {
   "cell_type": "code",
   "execution_count": 4,
   "metadata": {},
   "outputs": [
    {
     "data": {
      "application/vnd.plotly.v1+json": {
       "config": {
        "plotlyServerURL": "https://plot.ly"
       },
       "data": [
        {
         "alignmentgroup": "True",
         "hovertemplate": "Sentiment Category=%{x}<br>Number of Articles=%{y}<extra></extra>",
         "legendgroup": "neutral",
         "marker": {
          "color": "#636efa",
          "pattern": {
           "shape": ""
          }
         },
         "name": "neutral",
         "offsetgroup": "neutral",
         "orientation": "v",
         "showlegend": true,
         "textposition": "auto",
         "type": "bar",
         "x": [
          "neutral"
         ],
         "xaxis": "x",
         "y": [
          47
         ],
         "yaxis": "y"
        },
        {
         "alignmentgroup": "True",
         "hovertemplate": "Sentiment Category=%{x}<br>Number of Articles=%{y}<extra></extra>",
         "legendgroup": "positive",
         "marker": {
          "color": "#EF553B",
          "pattern": {
           "shape": ""
          }
         },
         "name": "positive",
         "offsetgroup": "positive",
         "orientation": "v",
         "showlegend": true,
         "textposition": "auto",
         "type": "bar",
         "x": [
          "positive"
         ],
         "xaxis": "x",
         "y": [
          40
         ],
         "yaxis": "y"
        },
        {
         "alignmentgroup": "True",
         "hovertemplate": "Sentiment Category=%{x}<br>Number of Articles=%{y}<extra></extra>",
         "legendgroup": "negative",
         "marker": {
          "color": "#00cc96",
          "pattern": {
           "shape": ""
          }
         },
         "name": "negative",
         "offsetgroup": "negative",
         "orientation": "v",
         "showlegend": true,
         "textposition": "auto",
         "type": "bar",
         "x": [
          "negative"
         ],
         "xaxis": "x",
         "y": [
          13
         ],
         "yaxis": "y"
        }
       ],
       "layout": {
        "barmode": "relative",
        "legend": {
         "title": {
          "text": "Sentiment Category"
         },
         "tracegroupgap": 0
        },
        "template": {
         "data": {
          "bar": [
           {
            "error_x": {
             "color": "#2a3f5f"
            },
            "error_y": {
             "color": "#2a3f5f"
            },
            "marker": {
             "line": {
              "color": "#E5ECF6",
              "width": 0.5
             },
             "pattern": {
              "fillmode": "overlay",
              "size": 10,
              "solidity": 0.2
             }
            },
            "type": "bar"
           }
          ],
          "barpolar": [
           {
            "marker": {
             "line": {
              "color": "#E5ECF6",
              "width": 0.5
             },
             "pattern": {
              "fillmode": "overlay",
              "size": 10,
              "solidity": 0.2
             }
            },
            "type": "barpolar"
           }
          ],
          "carpet": [
           {
            "aaxis": {
             "endlinecolor": "#2a3f5f",
             "gridcolor": "white",
             "linecolor": "white",
             "minorgridcolor": "white",
             "startlinecolor": "#2a3f5f"
            },
            "baxis": {
             "endlinecolor": "#2a3f5f",
             "gridcolor": "white",
             "linecolor": "white",
             "minorgridcolor": "white",
             "startlinecolor": "#2a3f5f"
            },
            "type": "carpet"
           }
          ],
          "choropleth": [
           {
            "colorbar": {
             "outlinewidth": 0,
             "ticks": ""
            },
            "type": "choropleth"
           }
          ],
          "contour": [
           {
            "colorbar": {
             "outlinewidth": 0,
             "ticks": ""
            },
            "colorscale": [
             [
              0,
              "#0d0887"
             ],
             [
              0.1111111111111111,
              "#46039f"
             ],
             [
              0.2222222222222222,
              "#7201a8"
             ],
             [
              0.3333333333333333,
              "#9c179e"
             ],
             [
              0.4444444444444444,
              "#bd3786"
             ],
             [
              0.5555555555555556,
              "#d8576b"
             ],
             [
              0.6666666666666666,
              "#ed7953"
             ],
             [
              0.7777777777777778,
              "#fb9f3a"
             ],
             [
              0.8888888888888888,
              "#fdca26"
             ],
             [
              1,
              "#f0f921"
             ]
            ],
            "type": "contour"
           }
          ],
          "contourcarpet": [
           {
            "colorbar": {
             "outlinewidth": 0,
             "ticks": ""
            },
            "type": "contourcarpet"
           }
          ],
          "heatmap": [
           {
            "colorbar": {
             "outlinewidth": 0,
             "ticks": ""
            },
            "colorscale": [
             [
              0,
              "#0d0887"
             ],
             [
              0.1111111111111111,
              "#46039f"
             ],
             [
              0.2222222222222222,
              "#7201a8"
             ],
             [
              0.3333333333333333,
              "#9c179e"
             ],
             [
              0.4444444444444444,
              "#bd3786"
             ],
             [
              0.5555555555555556,
              "#d8576b"
             ],
             [
              0.6666666666666666,
              "#ed7953"
             ],
             [
              0.7777777777777778,
              "#fb9f3a"
             ],
             [
              0.8888888888888888,
              "#fdca26"
             ],
             [
              1,
              "#f0f921"
             ]
            ],
            "type": "heatmap"
           }
          ],
          "heatmapgl": [
           {
            "colorbar": {
             "outlinewidth": 0,
             "ticks": ""
            },
            "colorscale": [
             [
              0,
              "#0d0887"
             ],
             [
              0.1111111111111111,
              "#46039f"
             ],
             [
              0.2222222222222222,
              "#7201a8"
             ],
             [
              0.3333333333333333,
              "#9c179e"
             ],
             [
              0.4444444444444444,
              "#bd3786"
             ],
             [
              0.5555555555555556,
              "#d8576b"
             ],
             [
              0.6666666666666666,
              "#ed7953"
             ],
             [
              0.7777777777777778,
              "#fb9f3a"
             ],
             [
              0.8888888888888888,
              "#fdca26"
             ],
             [
              1,
              "#f0f921"
             ]
            ],
            "type": "heatmapgl"
           }
          ],
          "histogram": [
           {
            "marker": {
             "pattern": {
              "fillmode": "overlay",
              "size": 10,
              "solidity": 0.2
             }
            },
            "type": "histogram"
           }
          ],
          "histogram2d": [
           {
            "colorbar": {
             "outlinewidth": 0,
             "ticks": ""
            },
            "colorscale": [
             [
              0,
              "#0d0887"
             ],
             [
              0.1111111111111111,
              "#46039f"
             ],
             [
              0.2222222222222222,
              "#7201a8"
             ],
             [
              0.3333333333333333,
              "#9c179e"
             ],
             [
              0.4444444444444444,
              "#bd3786"
             ],
             [
              0.5555555555555556,
              "#d8576b"
             ],
             [
              0.6666666666666666,
              "#ed7953"
             ],
             [
              0.7777777777777778,
              "#fb9f3a"
             ],
             [
              0.8888888888888888,
              "#fdca26"
             ],
             [
              1,
              "#f0f921"
             ]
            ],
            "type": "histogram2d"
           }
          ],
          "histogram2dcontour": [
           {
            "colorbar": {
             "outlinewidth": 0,
             "ticks": ""
            },
            "colorscale": [
             [
              0,
              "#0d0887"
             ],
             [
              0.1111111111111111,
              "#46039f"
             ],
             [
              0.2222222222222222,
              "#7201a8"
             ],
             [
              0.3333333333333333,
              "#9c179e"
             ],
             [
              0.4444444444444444,
              "#bd3786"
             ],
             [
              0.5555555555555556,
              "#d8576b"
             ],
             [
              0.6666666666666666,
              "#ed7953"
             ],
             [
              0.7777777777777778,
              "#fb9f3a"
             ],
             [
              0.8888888888888888,
              "#fdca26"
             ],
             [
              1,
              "#f0f921"
             ]
            ],
            "type": "histogram2dcontour"
           }
          ],
          "mesh3d": [
           {
            "colorbar": {
             "outlinewidth": 0,
             "ticks": ""
            },
            "type": "mesh3d"
           }
          ],
          "parcoords": [
           {
            "line": {
             "colorbar": {
              "outlinewidth": 0,
              "ticks": ""
             }
            },
            "type": "parcoords"
           }
          ],
          "pie": [
           {
            "automargin": true,
            "type": "pie"
           }
          ],
          "scatter": [
           {
            "fillpattern": {
             "fillmode": "overlay",
             "size": 10,
             "solidity": 0.2
            },
            "type": "scatter"
           }
          ],
          "scatter3d": [
           {
            "line": {
             "colorbar": {
              "outlinewidth": 0,
              "ticks": ""
             }
            },
            "marker": {
             "colorbar": {
              "outlinewidth": 0,
              "ticks": ""
             }
            },
            "type": "scatter3d"
           }
          ],
          "scattercarpet": [
           {
            "marker": {
             "colorbar": {
              "outlinewidth": 0,
              "ticks": ""
             }
            },
            "type": "scattercarpet"
           }
          ],
          "scattergeo": [
           {
            "marker": {
             "colorbar": {
              "outlinewidth": 0,
              "ticks": ""
             }
            },
            "type": "scattergeo"
           }
          ],
          "scattergl": [
           {
            "marker": {
             "colorbar": {
              "outlinewidth": 0,
              "ticks": ""
             }
            },
            "type": "scattergl"
           }
          ],
          "scattermapbox": [
           {
            "marker": {
             "colorbar": {
              "outlinewidth": 0,
              "ticks": ""
             }
            },
            "type": "scattermapbox"
           }
          ],
          "scatterpolar": [
           {
            "marker": {
             "colorbar": {
              "outlinewidth": 0,
              "ticks": ""
             }
            },
            "type": "scatterpolar"
           }
          ],
          "scatterpolargl": [
           {
            "marker": {
             "colorbar": {
              "outlinewidth": 0,
              "ticks": ""
             }
            },
            "type": "scatterpolargl"
           }
          ],
          "scatterternary": [
           {
            "marker": {
             "colorbar": {
              "outlinewidth": 0,
              "ticks": ""
             }
            },
            "type": "scatterternary"
           }
          ],
          "surface": [
           {
            "colorbar": {
             "outlinewidth": 0,
             "ticks": ""
            },
            "colorscale": [
             [
              0,
              "#0d0887"
             ],
             [
              0.1111111111111111,
              "#46039f"
             ],
             [
              0.2222222222222222,
              "#7201a8"
             ],
             [
              0.3333333333333333,
              "#9c179e"
             ],
             [
              0.4444444444444444,
              "#bd3786"
             ],
             [
              0.5555555555555556,
              "#d8576b"
             ],
             [
              0.6666666666666666,
              "#ed7953"
             ],
             [
              0.7777777777777778,
              "#fb9f3a"
             ],
             [
              0.8888888888888888,
              "#fdca26"
             ],
             [
              1,
              "#f0f921"
             ]
            ],
            "type": "surface"
           }
          ],
          "table": [
           {
            "cells": {
             "fill": {
              "color": "#EBF0F8"
             },
             "line": {
              "color": "white"
             }
            },
            "header": {
             "fill": {
              "color": "#C8D4E3"
             },
             "line": {
              "color": "white"
             }
            },
            "type": "table"
           }
          ]
         },
         "layout": {
          "annotationdefaults": {
           "arrowcolor": "#2a3f5f",
           "arrowhead": 0,
           "arrowwidth": 1
          },
          "autotypenumbers": "strict",
          "coloraxis": {
           "colorbar": {
            "outlinewidth": 0,
            "ticks": ""
           }
          },
          "colorscale": {
           "diverging": [
            [
             0,
             "#8e0152"
            ],
            [
             0.1,
             "#c51b7d"
            ],
            [
             0.2,
             "#de77ae"
            ],
            [
             0.3,
             "#f1b6da"
            ],
            [
             0.4,
             "#fde0ef"
            ],
            [
             0.5,
             "#f7f7f7"
            ],
            [
             0.6,
             "#e6f5d0"
            ],
            [
             0.7,
             "#b8e186"
            ],
            [
             0.8,
             "#7fbc41"
            ],
            [
             0.9,
             "#4d9221"
            ],
            [
             1,
             "#276419"
            ]
           ],
           "sequential": [
            [
             0,
             "#0d0887"
            ],
            [
             0.1111111111111111,
             "#46039f"
            ],
            [
             0.2222222222222222,
             "#7201a8"
            ],
            [
             0.3333333333333333,
             "#9c179e"
            ],
            [
             0.4444444444444444,
             "#bd3786"
            ],
            [
             0.5555555555555556,
             "#d8576b"
            ],
            [
             0.6666666666666666,
             "#ed7953"
            ],
            [
             0.7777777777777778,
             "#fb9f3a"
            ],
            [
             0.8888888888888888,
             "#fdca26"
            ],
            [
             1,
             "#f0f921"
            ]
           ],
           "sequentialminus": [
            [
             0,
             "#0d0887"
            ],
            [
             0.1111111111111111,
             "#46039f"
            ],
            [
             0.2222222222222222,
             "#7201a8"
            ],
            [
             0.3333333333333333,
             "#9c179e"
            ],
            [
             0.4444444444444444,
             "#bd3786"
            ],
            [
             0.5555555555555556,
             "#d8576b"
            ],
            [
             0.6666666666666666,
             "#ed7953"
            ],
            [
             0.7777777777777778,
             "#fb9f3a"
            ],
            [
             0.8888888888888888,
             "#fdca26"
            ],
            [
             1,
             "#f0f921"
            ]
           ]
          },
          "colorway": [
           "#636efa",
           "#EF553B",
           "#00cc96",
           "#ab63fa",
           "#FFA15A",
           "#19d3f3",
           "#FF6692",
           "#B6E880",
           "#FF97FF",
           "#FECB52"
          ],
          "font": {
           "color": "#2a3f5f"
          },
          "geo": {
           "bgcolor": "white",
           "lakecolor": "white",
           "landcolor": "#E5ECF6",
           "showlakes": true,
           "showland": true,
           "subunitcolor": "white"
          },
          "hoverlabel": {
           "align": "left"
          },
          "hovermode": "closest",
          "mapbox": {
           "style": "light"
          },
          "paper_bgcolor": "white",
          "plot_bgcolor": "#E5ECF6",
          "polar": {
           "angularaxis": {
            "gridcolor": "white",
            "linecolor": "white",
            "ticks": ""
           },
           "bgcolor": "#E5ECF6",
           "radialaxis": {
            "gridcolor": "white",
            "linecolor": "white",
            "ticks": ""
           }
          },
          "scene": {
           "xaxis": {
            "backgroundcolor": "#E5ECF6",
            "gridcolor": "white",
            "gridwidth": 2,
            "linecolor": "white",
            "showbackground": true,
            "ticks": "",
            "zerolinecolor": "white"
           },
           "yaxis": {
            "backgroundcolor": "#E5ECF6",
            "gridcolor": "white",
            "gridwidth": 2,
            "linecolor": "white",
            "showbackground": true,
            "ticks": "",
            "zerolinecolor": "white"
           },
           "zaxis": {
            "backgroundcolor": "#E5ECF6",
            "gridcolor": "white",
            "gridwidth": 2,
            "linecolor": "white",
            "showbackground": true,
            "ticks": "",
            "zerolinecolor": "white"
           }
          },
          "shapedefaults": {
           "line": {
            "color": "#2a3f5f"
           }
          },
          "ternary": {
           "aaxis": {
            "gridcolor": "white",
            "linecolor": "white",
            "ticks": ""
           },
           "baxis": {
            "gridcolor": "white",
            "linecolor": "white",
            "ticks": ""
           },
           "bgcolor": "#E5ECF6",
           "caxis": {
            "gridcolor": "white",
            "linecolor": "white",
            "ticks": ""
           }
          },
          "title": {
           "x": 0.05
          },
          "xaxis": {
           "automargin": true,
           "gridcolor": "white",
           "linecolor": "white",
           "ticks": "",
           "title": {
            "standoff": 15
           },
           "zerolinecolor": "white",
           "zerolinewidth": 2
          },
          "yaxis": {
           "automargin": true,
           "gridcolor": "white",
           "linecolor": "white",
           "ticks": "",
           "title": {
            "standoff": 15
           },
           "zerolinecolor": "white",
           "zerolinewidth": 2
          }
         }
        },
        "title": {
         "text": "Sentiment Distribution"
        },
        "xaxis": {
         "anchor": "y",
         "categoryarray": [
          "neutral",
          "positive",
          "negative"
         ],
         "categoryorder": "array",
         "domain": [
          0,
          1
         ],
         "title": {
          "text": "Sentiment Category"
         }
        },
        "yaxis": {
         "anchor": "x",
         "domain": [
          0,
          1
         ],
         "title": {
          "text": "Number of Articles"
         }
        }
       }
      }
     },
     "metadata": {},
     "output_type": "display_data"
    }
   ],
   "source": [
    "import plotly.express as px\n",
    "\n",
    "# Sentiment Distribution Visualization\n",
    "sentiment_distribution = df_sentiments['description_sentiment_category'].value_counts()\n",
    "fig_distribution = px.bar(sentiment_distribution, \n",
    "                          title='Sentiment Distribution',\n",
    "                          labels={'value': 'Number of Articles', 'index': 'Sentiment Category'},\n",
    "                          color=sentiment_distribution.index)\n",
    "fig_distribution.show()"
   ]
  },
  {
   "cell_type": "markdown",
   "metadata": {},
   "source": [
    "### Line Chart: Sentiment Trend Over Time\n",
    "The line chart will illustrate the average sentiment polarity over time, providing insights into how public sentiment towards a topic has evolved on a daily basis.\n",
    "\n",
    "The y-axis represents the average sentiment polarity, with higher values indicating more positive sentiment.\n",
    "The x-axis is time, showing the progression of sentiment over the dates articles were published."
   ]
  },
  {
   "cell_type": "code",
   "execution_count": 5,
   "metadata": {},
   "outputs": [
    {
     "data": {
      "image/png": "[encoded data removed]",
      "text/plain": [
       "<Figure size 864x432 with 1 Axes>"
      ]
     },
     "metadata": {
      "needs_background": "light"
     },
     "output_type": "display_data"
    }
   ],
   "source": [
    "import matplotlib.pyplot as plt\n",
    "import matplotlib.dates as mdates\n",
    "\n",
    "\n",
    "# Resampling data to get average sentiment per day\n",
    "daily_sentiment = df_sentiments.resample('D', on='publishedAt').mean()\n",
    "plt.figure(figsize=(12, 6))\n",
    "plt.plot(daily_sentiment.index, daily_sentiment['description_sentiment'], marker='o', color='purple')\n",
    "plt.title('Sentiment Trend Over Time')\n",
    "plt.xlabel('Date')\n",
    "plt.ylabel('Average Sentiment Polarity')\n",
    "plt.gca().xaxis.set_major_formatter(mdates.DateFormatter('%Y-%m-%d'))\n",
    "plt.gca().xaxis.set_major_locator(mdates.DayLocator(interval=7))\n",
    "plt.xticks(rotation=45)\n",
    "plt.grid(True)\n",
    "plt.show()"
   ]
  },
  {
   "cell_type": "markdown",
   "metadata": {},
   "source": [
    "### Scatter Plot: Sentiment Polarity vs. Subjectivity\n",
    "The scatter plot will provide a visual comparison of sentiment polarity against subjectivity for each article description. The polarity measures how positive or negative the sentiment is, while subjectivity quantifies how much personal opinion versus factual information is contained in the text.\n",
    "\n",
    "- Positive Sentiments: Shown in green, indicating articles with a more favorable tone.\n",
    "- Neutral Sentiments: Shown in blue, representing articles with a balanced or unbiased tone.\n",
    "- Negative Sentiments: Shown in red, highlighting articles with a more unfavorable tone.\n",
    "This visualization helps to identify patterns and correlations between how subjective the articles are and the sentiment expressed."
   ]
  },
  {
   "cell_type": "code",
   "execution_count": 6,
   "metadata": {},
   "outputs": [
    {
     "data": {
      "application/vnd.plotly.v1+json": {
       "config": {
        "plotlyServerURL": "https://plot.ly"
       },
       "data": [
        {
         "hovertemplate": "description_sentiment_category=negative<br>description_sentiment=%{x}<br>description_subjectivity=%{y}<extra></extra>",
         "legendgroup": "negative",
         "marker": {
          "color": "#636efa",
          "symbol": "circle"
         },
         "mode": "markers",
         "name": "negative",
         "orientation": "v",
         "showlegend": true,
         "type": "scatter",
         "x": [
          -0.19999999999999998,
          -0.5,
          -0.16666666666666666,
          -0.27291666666666664,
          -0.3,
          -0.16666666666666666,
          -0.2916666666666667,
          -0.12121212121212122,
          -0.2,
          -0.16666666666666666,
          -0.375,
          -0.25,
          -0.24999999999999992
         ],
         "xaxis": "x",
         "y": [
          0.48888888888888893,
          1,
          0.06666666666666667,
          0.5520833333333333,
          0.5666666666666667,
          0.16666666666666666,
          0.35555555555555557,
          0.48484848484848486,
          0.35,
          0.16666666666666666,
          0.6666666666666666,
          0.75,
          0.43333333333333335
         ],
         "yaxis": "y"
        },
        {
         "hovertemplate": "description_sentiment_category=positive<br>description_sentiment=%{x}<br>description_subjectivity=%{y}<extra></extra>",
         "legendgroup": "positive",
         "marker": {
          "color": "#EF553B",
          "symbol": "circle"
         },
         "mode": "markers",
         "name": "positive",
         "orientation": "v",
         "showlegend": true,
         "type": "scatter",
         "x": [
          0.6,
          0.25,
          0.24375,
          0.25,
          0.47500000000000003,
          0.10999999999999999,
          0.3541666666666667,
          0.3,
          0.19,
          0.11666666666666668,
          0.21948051948051944,
          0.23333333333333336,
          0.4000000000000001,
          0.11666666666666667,
          0.19999999999999998,
          0.21428571428571427,
          0.19227272727272723,
          0.19545454545454546,
          0.2560606060606061,
          0.2,
          0.8,
          0.12878787878787878,
          0.22023809523809523,
          0.5,
          0.15000000000000002,
          0.25,
          0.14534632034632036,
          0.3,
          0.11666666666666665,
          0.35,
          0.8,
          0.2787878787878788,
          0.125,
          0.16666666666666666,
          0.17,
          0.625,
          0.25,
          0.3416666666666667,
          0.6333333333333333,
          0.5
         ],
         "xaxis": "x",
         "y": [
          0.9,
          0.375,
          0.5854166666666667,
          0.3333333333333333,
          0.7027777777777778,
          0.40666666666666673,
          0.6041666666666666,
          0.65,
          0.4766666666666667,
          0.48888888888888893,
          0.403030303030303,
          0.7083333333333333,
          0.9,
          0.13333333333333333,
          0.6277777777777778,
          0.42857142857142855,
          0.4409090909090909,
          0.32575757575757575,
          0.3952020202020203,
          0.5,
          0.75,
          0.27777777777777773,
          0.4261904761904762,
          0.5,
          0.30000000000000004,
          0.3333333333333333,
          0.6039321789321789,
          0.5499999999999999,
          0.3833333333333333,
          0.65,
          0.9,
          0.4515151515151515,
          0.16666666666666666,
          0.10000000000000002,
          0.33999999999999997,
          0.31666666666666665,
          0.25,
          0.41833333333333333,
          0.4666666666666666,
          0.5
         ],
         "yaxis": "y"
        },
        {
         "hovertemplate": "description_sentiment_category=neutral<br>description_sentiment=%{x}<br>description_subjectivity=%{y}<extra></extra>",
         "legendgroup": "neutral",
         "marker": {
          "color": "#00cc96",
          "symbol": "circle"
         },
         "mode": "markers",
         "name": "neutral",
         "orientation": "v",
         "showlegend": true,
         "type": "scatter",
         "x": [
          0,
          0,
          0,
          0,
          0.09375,
          0,
          0,
          0,
          0,
          -0.008928571428571432,
          0,
          0.03454545454545454,
          0.06111111111111111,
          0.08249999999999999,
          0,
          0.0246212121212121,
          0,
          0.020833333333333332,
          0.06666666666666667,
          -0.050000000000000044,
          0.07662337662337662,
          -0.002222222222222218,
          0,
          0,
          0,
          0.075,
          0,
          0.033333333333333326,
          0,
          0,
          0,
          0,
          0.024999999999999994,
          -0.07500000000000001,
          0,
          -0.05,
          0,
          0,
          0.03409090909090909,
          0.049999999999999996,
          0,
          0,
          -0.033333333333333354,
          0,
          0,
          0.06666666666666667,
          0.1
         ],
         "xaxis": "x",
         "y": [
          0,
          0,
          0,
          0,
          0.47916666666666663,
          0,
          0,
          0.1,
          0,
          0.49404761904761907,
          0,
          0.41848484848484857,
          0.3333333333333333,
          0.5066666666666667,
          1,
          0.5015151515151515,
          0,
          0.31111111111111106,
          0.39999999999999997,
          0.4,
          0.3220779220779221,
          0.32444444444444437,
          0.5,
          0,
          0,
          0.4666666666666667,
          0,
          0.3166666666666667,
          0,
          1,
          0,
          0,
          0.575,
          0.05,
          0.1,
          0.5,
          0,
          0,
          0.15738636363636363,
          0.35,
          0.75,
          0.125,
          0.45,
          0,
          0,
          0.3333333333333333,
          0.2
         ],
         "yaxis": "y"
        }
       ],
       "layout": {
        "legend": {
         "title": {
          "text": "description_sentiment_category"
         },
         "tracegroupgap": 0
        },
        "template": {
         "data": {
          "bar": [
           {
            "error_x": {
             "color": "#2a3f5f"
            },
            "error_y": {
             "color": "#2a3f5f"
            },
            "marker": {
             "line": {
              "color": "#E5ECF6",
              "width": 0.5
             },
             "pattern": {
              "fillmode": "overlay",
              "size": 10,
              "solidity": 0.2
             }
            },
            "type": "bar"
           }
          ],
          "barpolar": [
           {
            "marker": {
             "line": {
              "color": "#E5ECF6",
              "width": 0.5
             },
             "pattern": {
              "fillmode": "overlay",
              "size": 10,
              "solidity": 0.2
             }
            },
            "type": "barpolar"
           }
          ],
          "carpet": [
           {
            "aaxis": {
             "endlinecolor": "#2a3f5f",
             "gridcolor": "white",
             "linecolor": "white",
             "minorgridcolor": "white",
             "startlinecolor": "#2a3f5f"
            },
            "baxis": {
             "endlinecolor": "#2a3f5f",
             "gridcolor": "white",
             "linecolor": "white",
             "minorgridcolor": "white",
             "startlinecolor": "#2a3f5f"
            },
            "type": "carpet"
           }
          ],
          "choropleth": [
           {
            "colorbar": {
             "outlinewidth": 0,
             "ticks": ""
            },
            "type": "choropleth"
           }
          ],
          "contour": [
           {
            "colorbar": {
             "outlinewidth": 0,
             "ticks": ""
            },
            "colorscale": [
             [
              0,
              "#0d0887"
             ],
             [
              0.1111111111111111,
              "#46039f"
             ],
             [
              0.2222222222222222,
              "#7201a8"
             ],
             [
              0.3333333333333333,
              "#9c179e"
             ],
             [
              0.4444444444444444,
              "#bd3786"
             ],
             [
              0.5555555555555556,
              "#d8576b"
             ],
             [
              0.6666666666666666,
              "#ed7953"
             ],
             [
              0.7777777777777778,
              "#fb9f3a"
             ],
             [
              0.8888888888888888,
              "#fdca26"
             ],
             [
              1,
              "#f0f921"
             ]
            ],
            "type": "contour"
           }
          ],
          "contourcarpet": [
           {
            "colorbar": {
             "outlinewidth": 0,
             "ticks": ""
            },
            "type": "contourcarpet"
           }
          ],
          "heatmap": [
           {
            "colorbar": {
             "outlinewidth": 0,
             "ticks": ""
            },
            "colorscale": [
             [
              0,
              "#0d0887"
             ],
             [
              0.1111111111111111,
              "#46039f"
             ],
             [
              0.2222222222222222,
              "#7201a8"
             ],
             [
              0.3333333333333333,
              "#9c179e"
             ],
             [
              0.4444444444444444,
              "#bd3786"
             ],
             [
              0.5555555555555556,
              "#d8576b"
             ],
             [
              0.6666666666666666,
              "#ed7953"
             ],
             [
              0.7777777777777778,
              "#fb9f3a"
             ],
             [
              0.8888888888888888,
              "#fdca26"
             ],
             [
              1,
              "#f0f921"
             ]
            ],
            "type": "heatmap"
           }
          ],
          "heatmapgl": [
           {
            "colorbar": {
             "outlinewidth": 0,
             "ticks": ""
            },
            "colorscale": [
             [
              0,
              "#0d0887"
             ],
             [
              0.1111111111111111,
              "#46039f"
             ],
             [
              0.2222222222222222,
              "#7201a8"
             ],
             [
              0.3333333333333333,
              "#9c179e"
             ],
             [
              0.4444444444444444,
              "#bd3786"
             ],
             [
              0.5555555555555556,
              "#d8576b"
             ],
             [
              0.6666666666666666,
              "#ed7953"
             ],
             [
              0.7777777777777778,
              "#fb9f3a"
             ],
             [
              0.8888888888888888,
              "#fdca26"
             ],
             [
              1,
              "#f0f921"
             ]
            ],
            "type": "heatmapgl"
           }
          ],
          "histogram": [
           {
            "marker": {
             "pattern": {
              "fillmode": "overlay",
              "size": 10,
              "solidity": 0.2
             }
            },
            "type": "histogram"
           }
          ],
          "histogram2d": [
           {
            "colorbar": {
             "outlinewidth": 0,
             "ticks": ""
            },
            "colorscale": [
             [
              0,
              "#0d0887"
             ],
             [
              0.1111111111111111,
              "#46039f"
             ],
             [
              0.2222222222222222,
              "#7201a8"
             ],
             [
              0.3333333333333333,
              "#9c179e"
             ],
             [
              0.4444444444444444,
              "#bd3786"
             ],
             [
              0.5555555555555556,
              "#d8576b"
             ],
             [
              0.6666666666666666,
              "#ed7953"
             ],
             [
              0.7777777777777778,
              "#fb9f3a"
             ],
             [
              0.8888888888888888,
              "#fdca26"
             ],
             [
              1,
              "#f0f921"
             ]
            ],
            "type": "histogram2d"
           }
          ],
          "histogram2dcontour": [
           {
            "colorbar": {
             "outlinewidth": 0,
             "ticks": ""
            },
            "colorscale": [
             [
              0,
              "#0d0887"
             ],
             [
              0.1111111111111111,
              "#46039f"
             ],
             [
              0.2222222222222222,
              "#7201a8"
             ],
             [
              0.3333333333333333,
              "#9c179e"
             ],
             [
              0.4444444444444444,
              "#bd3786"
             ],
             [
              0.5555555555555556,
              "#d8576b"
             ],
             [
              0.6666666666666666,
              "#ed7953"
             ],
             [
              0.7777777777777778,
              "#fb9f3a"
             ],
             [
              0.8888888888888888,
              "#fdca26"
             ],
             [
              1,
              "#f0f921"
             ]
            ],
            "type": "histogram2dcontour"
           }
          ],
          "mesh3d": [
           {
            "colorbar": {
             "outlinewidth": 0,
             "ticks": ""
            },
            "type": "mesh3d"
           }
          ],
          "parcoords": [
           {
            "line": {
             "colorbar": {
              "outlinewidth": 0,
              "ticks": ""
             }
            },
            "type": "parcoords"
           }
          ],
          "pie": [
           {
            "automargin": true,
            "type": "pie"
           }
          ],
          "scatter": [
           {
            "fillpattern": {
             "fillmode": "overlay",
             "size": 10,
             "solidity": 0.2
            },
            "type": "scatter"
           }
          ],
          "scatter3d": [
           {
            "line": {
             "colorbar": {
              "outlinewidth": 0,
              "ticks": ""
             }
            },
            "marker": {
             "colorbar": {
              "outlinewidth": 0,
              "ticks": ""
             }
            },
            "type": "scatter3d"
           }
          ],
          "scattercarpet": [
           {
            "marker": {
             "colorbar": {
              "outlinewidth": 0,
              "ticks": ""
             }
            },
            "type": "scattercarpet"
           }
          ],
          "scattergeo": [
           {
            "marker": {
             "colorbar": {
              "outlinewidth": 0,
              "ticks": ""
             }
            },
            "type": "scattergeo"
           }
          ],
          "scattergl": [
           {
            "marker": {
             "colorbar": {
              "outlinewidth": 0,
              "ticks": ""
             }
            },
            "type": "scattergl"
           }
          ],
          "scattermapbox": [
           {
            "marker": {
             "colorbar": {
              "outlinewidth": 0,
              "ticks": ""
             }
            },
            "type": "scattermapbox"
           }
          ],
          "scatterpolar": [
           {
            "marker": {
             "colorbar": {
              "outlinewidth": 0,
              "ticks": ""
             }
            },
            "type": "scatterpolar"
           }
          ],
          "scatterpolargl": [
           {
            "marker": {
             "colorbar": {
              "outlinewidth": 0,
              "ticks": ""
             }
            },
            "type": "scatterpolargl"
           }
          ],
          "scatterternary": [
           {
            "marker": {
             "colorbar": {
              "outlinewidth": 0,
              "ticks": ""
             }
            },
            "type": "scatterternary"
           }
          ],
          "surface": [
           {
            "colorbar": {
             "outlinewidth": 0,
             "ticks": ""
            },
            "colorscale": [
             [
              0,
              "#0d0887"
             ],
             [
              0.1111111111111111,
              "#46039f"
             ],
             [
              0.2222222222222222,
              "#7201a8"
             ],
             [
              0.3333333333333333,
              "#9c179e"
             ],
             [
              0.4444444444444444,
              "#bd3786"
             ],
             [
              0.5555555555555556,
              "#d8576b"
             ],
             [
              0.6666666666666666,
              "#ed7953"
             ],
             [
              0.7777777777777778,
              "#fb9f3a"
             ],
             [
              0.8888888888888888,
              "#fdca26"
             ],
             [
              1,
              "#f0f921"
             ]
            ],
            "type": "surface"
           }
          ],
          "table": [
           {
            "cells": {
             "fill": {
              "color": "#EBF0F8"
             },
             "line": {
              "color": "white"
             }
            },
            "header": {
             "fill": {
              "color": "#C8D4E3"
             },
             "line": {
              "color": "white"
             }
            },
            "type": "table"
           }
          ]
         },
         "layout": {
          "annotationdefaults": {
           "arrowcolor": "#2a3f5f",
           "arrowhead": 0,
           "arrowwidth": 1
          },
          "autotypenumbers": "strict",
          "coloraxis": {
           "colorbar": {
            "outlinewidth": 0,
            "ticks": ""
           }
          },
          "colorscale": {
           "diverging": [
            [
             0,
             "#8e0152"
            ],
            [
             0.1,
             "#c51b7d"
            ],
            [
             0.2,
             "#de77ae"
            ],
            [
             0.3,
             "#f1b6da"
            ],
            [
             0.4,
             "#fde0ef"
            ],
            [
             0.5,
             "#f7f7f7"
            ],
            [
             0.6,
             "#e6f5d0"
            ],
            [
             0.7,
             "#b8e186"
            ],
            [
             0.8,
             "#7fbc41"
            ],
            [
             0.9,
             "#4d9221"
            ],
            [
             1,
             "#276419"
            ]
           ],
           "sequential": [
            [
             0,
             "#0d0887"
            ],
            [
             0.1111111111111111,
             "#46039f"
            ],
            [
             0.2222222222222222,
             "#7201a8"
            ],
            [
             0.3333333333333333,
             "#9c179e"
            ],
            [
             0.4444444444444444,
             "#bd3786"
            ],
            [
             0.5555555555555556,
             "#d8576b"
            ],
            [
             0.6666666666666666,
             "#ed7953"
            ],
            [
             0.7777777777777778,
             "#fb9f3a"
            ],
            [
             0.8888888888888888,
             "#fdca26"
            ],
            [
             1,
             "#f0f921"
            ]
           ],
           "sequentialminus": [
            [
             0,
             "#0d0887"
            ],
            [
             0.1111111111111111,
             "#46039f"
            ],
            [
             0.2222222222222222,
             "#7201a8"
            ],
            [
             0.3333333333333333,
             "#9c179e"
            ],
            [
             0.4444444444444444,
             "#bd3786"
            ],
            [
             0.5555555555555556,
             "#d8576b"
            ],
            [
             0.6666666666666666,
             "#ed7953"
            ],
            [
             0.7777777777777778,
             "#fb9f3a"
            ],
            [
             0.8888888888888888,
             "#fdca26"
            ],
            [
             1,
             "#f0f921"
            ]
           ]
          },
          "colorway": [
           "#636efa",
           "#EF553B",
           "#00cc96",
           "#ab63fa",
           "#FFA15A",
           "#19d3f3",
           "#FF6692",
           "#B6E880",
           "#FF97FF",
           "#FECB52"
          ],
          "font": {
           "color": "#2a3f5f"
          },
          "geo": {
           "bgcolor": "white",
           "lakecolor": "white",
           "landcolor": "#E5ECF6",
           "showlakes": true,
           "showland": true,
           "subunitcolor": "white"
          },
          "hoverlabel": {
           "align": "left"
          },
          "hovermode": "closest",
          "mapbox": {
           "style": "light"
          },
          "paper_bgcolor": "white",
          "plot_bgcolor": "#E5ECF6",
          "polar": {
           "angularaxis": {
            "gridcolor": "white",
            "linecolor": "white",
            "ticks": ""
           },
           "bgcolor": "#E5ECF6",
           "radialaxis": {
            "gridcolor": "white",
            "linecolor": "white",
            "ticks": ""
           }
          },
          "scene": {
           "xaxis": {
            "backgroundcolor": "#E5ECF6",
            "gridcolor": "white",
            "gridwidth": 2,
            "linecolor": "white",
            "showbackground": true,
            "ticks": "",
            "zerolinecolor": "white"
           },
           "yaxis": {
            "backgroundcolor": "#E5ECF6",
            "gridcolor": "white",
            "gridwidth": 2,
            "linecolor": "white",
            "showbackground": true,
            "ticks": "",
            "zerolinecolor": "white"
           },
           "zaxis": {
            "backgroundcolor": "#E5ECF6",
            "gridcolor": "white",
            "gridwidth": 2,
            "linecolor": "white",
            "showbackground": true,
            "ticks": "",
            "zerolinecolor": "white"
           }
          },
          "shapedefaults": {
           "line": {
            "color": "#2a3f5f"
           }
          },
          "ternary": {
           "aaxis": {
            "gridcolor": "white",
            "linecolor": "white",
            "ticks": ""
           },
           "baxis": {
            "gridcolor": "white",
            "linecolor": "white",
            "ticks": ""
           },
           "bgcolor": "#E5ECF6",
           "caxis": {
            "gridcolor": "white",
            "linecolor": "white",
            "ticks": ""
           }
          },
          "title": {
           "x": 0.05
          },
          "xaxis": {
           "automargin": true,
           "gridcolor": "white",
           "linecolor": "white",
           "ticks": "",
           "title": {
            "standoff": 15
           },
           "zerolinecolor": "white",
           "zerolinewidth": 2
          },
          "yaxis": {
           "automargin": true,
           "gridcolor": "white",
           "linecolor": "white",
           "ticks": "",
           "title": {
            "standoff": 15
           },
           "zerolinecolor": "white",
           "zerolinewidth": 2
          }
         }
        },
        "title": {
         "text": "Sentiment Polarity vs. Subjectivity"
        },
        "xaxis": {
         "anchor": "y",
         "domain": [
          0,
          1
         ],
         "title": {
          "text": "description_sentiment"
         }
        },
        "yaxis": {
         "anchor": "x",
         "domain": [
          0,
          1
         ],
         "title": {
          "text": "description_subjectivity"
         }
        }
       }
      }
     },
     "metadata": {},
     "output_type": "display_data"
    }
   ],
   "source": [
    "def analyze_subjectivity(text):\n",
    "    \"\"\"Calculate the subjectivity of the given text using TextBlob.\"\"\"\n",
    "    return TextBlob(text).sentiment.subjectivity\n",
    "\n",
    "# Add subjectivity analysis to the articles\n",
    "for article in sentiment_analysis_results:\n",
    "    article['description_subjectivity'] = analyze_subjectivity(article['cleaned_description'])\n",
    "\n",
    "# Create a DataFrame\n",
    "df_subjectivity = pd.DataFrame(sentiment_analysis_results)\n",
    "\n",
    "# Scatter Plot\n",
    "fig = px.scatter(df_subjectivity, x='description_sentiment', y='description_subjectivity', \n",
    "                 color='description_sentiment_category', title='Sentiment Polarity vs. Subjectivity')\n",
    "fig.show()"
   ]
  },
  {
   "cell_type": "markdown",
   "metadata": {},
   "source": [
    "## Final Project Summary\n",
    "In this sentiment analysis project, I employed a sequence of functions to extract, process, analyze, and visualize sentiments from news articles. The project workflow was meticulously structured into several phases: data acquisition, data preprocessing, perform sentiment computation, and data visualization.\n",
    "\n",
    "The `query_newsapi` function initiated the data acquisition, retrieving articles on a specified topic from newsapi.org. We extracted relevant details such as article descriptions, and publication dates.\n",
    "\n",
    "During preprocessing, `clean_and_translate` function was pivotal in language detection and translation, ensuring the text was in English and normalized for consistency. This step was crucial for the accuracy of the subsequent sentiment analysis.\n",
    "\n",
    "The `perform_sentiment_analysis` function computed sentiment scores for each article using TextBlob. Articles were categorized into positive, neutral, or negative sentiment classes based on their polarity scores.\n",
    "\n",
    "Finally, visualizations were created using Plotly & Matplotlib. These visualizations offered an interactive and lucid portrayal of the results, allowing user to observe sentiment fluctuations over time and the balance between factual reporting and opinion."
   ]
  }
 ],
 "metadata": {
  "kernelspec": {
   "display_name": "Python 3",
   "language": "python",
   "name": "python3"
  },
  "language_info": {
   "codemirror_mode": {
    "name": "ipython",
    "version": 3
   },
   "file_extension": ".py",
   "mimetype": "text/x-python",
   "name": "python",
   "nbconvert_exporter": "python",
   "pygments_lexer": "ipython3",
   "version": "3.9.0"
  }
 },
 "nbformat": 4,
 "nbformat_minor": 2
}
